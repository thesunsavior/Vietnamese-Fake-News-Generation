{
  "cells": [
    {
      "cell_type": "markdown",
      "id": "perfect-indie",
      "metadata": {
        "id": "perfect-indie"
      },
      "source": [
        "## K meas news catagories experiment\n"
      ]
    },
    {
      "cell_type": "markdown",
      "id": "inside-anniversary",
      "metadata": {
        "id": "inside-anniversary"
      },
      "source": [
        "This note book is intended for experiment and visualization.\n",
        "The dataset contains over 400 news pieces from ZingNews, Vietnamnet, Dan Tri, Thanh Nien and VTC. The pipeline is as follow:  \n",
        "- Preprocess text data: we represent each of the aticles as TF-IDF form, which takes into account the frequency of words in a document and their overall importance in the corpus. By using TF-IDF, we aim to leverage the most important words in each article. \n",
        "- we applied principal component analysis (PCA) to simplify the data and remove any redundant information. In this notebook, we would reduce to 2D for better visualization\n",
        "- Finally, we used k-means clustering to group the articles into different clusters"
      ]
    },
    {
      "cell_type": "code",
      "execution_count": null,
      "id": "helpful-berry",
      "metadata": {
        "id": "helpful-berry",
        "colab": {
          "base_uri": "https://localhost:8080/"
        },
        "outputId": "e7ff264a-3f9f-4288-b39c-910b420f1eaf"
      },
      "outputs": [
        {
          "output_type": "stream",
          "name": "stdout",
          "text": [
            "Looking in indexes: https://pypi.org/simple, https://us-python.pkg.dev/colab-wheels/public/simple/\n",
            "Requirement already satisfied: texthero in /usr/local/lib/python3.8/dist-packages (1.1.0)\n",
            "Requirement already satisfied: matplotlib>=3.1.0 in /usr/local/lib/python3.8/dist-packages (from texthero) (3.2.2)\n",
            "Requirement already satisfied: nltk>=3.3 in /usr/local/lib/python3.8/dist-packages (from texthero) (3.7)\n",
            "Requirement already satisfied: wordcloud>=1.5.0 in /usr/local/lib/python3.8/dist-packages (from texthero) (1.8.2.2)\n",
            "Requirement already satisfied: numpy>=1.17 in /usr/local/lib/python3.8/dist-packages (from texthero) (1.21.6)\n",
            "Requirement already satisfied: scikit-learn>=0.22 in /usr/local/lib/python3.8/dist-packages (from texthero) (0.22)\n",
            "Requirement already satisfied: unidecode>=1.1.1 in /usr/local/lib/python3.8/dist-packages (from texthero) (1.3.6)\n",
            "Requirement already satisfied: gensim<4.0,>=3.6.0 in /usr/local/lib/python3.8/dist-packages (from texthero) (3.6.0)\n",
            "Requirement already satisfied: tqdm>=4.3 in /usr/local/lib/python3.8/dist-packages (from texthero) (4.64.1)\n",
            "Requirement already satisfied: plotly>=4.2.0 in /usr/local/lib/python3.8/dist-packages (from texthero) (5.5.0)\n",
            "Collecting spacy<3.0.0\n",
            "  Using cached spacy-2.3.9-cp38-cp38-manylinux_2_17_x86_64.manylinux2014_x86_64.whl (5.0 MB)\n",
            "Requirement already satisfied: pandas>=1.0.2 in /usr/local/lib/python3.8/dist-packages (from texthero) (1.3.5)\n",
            "Requirement already satisfied: smart-open>=1.2.1 in /usr/local/lib/python3.8/dist-packages (from gensim<4.0,>=3.6.0->texthero) (6.3.0)\n",
            "Requirement already satisfied: scipy>=0.18.1 in /usr/local/lib/python3.8/dist-packages (from gensim<4.0,>=3.6.0->texthero) (1.7.3)\n",
            "Requirement already satisfied: six>=1.5.0 in /usr/local/lib/python3.8/dist-packages (from gensim<4.0,>=3.6.0->texthero) (1.15.0)\n",
            "Requirement already satisfied: kiwisolver>=1.0.1 in /usr/local/lib/python3.8/dist-packages (from matplotlib>=3.1.0->texthero) (1.4.4)\n",
            "Requirement already satisfied: pyparsing!=2.0.4,!=2.1.2,!=2.1.6,>=2.0.1 in /usr/local/lib/python3.8/dist-packages (from matplotlib>=3.1.0->texthero) (3.0.9)\n",
            "Requirement already satisfied: python-dateutil>=2.1 in /usr/local/lib/python3.8/dist-packages (from matplotlib>=3.1.0->texthero) (2.8.2)\n",
            "Requirement already satisfied: cycler>=0.10 in /usr/local/lib/python3.8/dist-packages (from matplotlib>=3.1.0->texthero) (0.11.0)\n",
            "Requirement already satisfied: regex>=2021.8.3 in /usr/local/lib/python3.8/dist-packages (from nltk>=3.3->texthero) (2022.6.2)\n",
            "Requirement already satisfied: joblib in /usr/local/lib/python3.8/dist-packages (from nltk>=3.3->texthero) (1.2.0)\n",
            "Requirement already satisfied: click in /usr/local/lib/python3.8/dist-packages (from nltk>=3.3->texthero) (7.1.2)\n",
            "Requirement already satisfied: pytz>=2017.3 in /usr/local/lib/python3.8/dist-packages (from pandas>=1.0.2->texthero) (2022.7.1)\n",
            "Requirement already satisfied: tenacity>=6.2.0 in /usr/local/lib/python3.8/dist-packages (from plotly>=4.2.0->texthero) (8.2.0)\n",
            "Requirement already satisfied: murmurhash<1.1.0,>=0.28.0 in /usr/local/lib/python3.8/dist-packages (from spacy<3.0.0->texthero) (1.0.9)\n",
            "Requirement already satisfied: plac<1.2.0,>=0.9.6 in /usr/local/lib/python3.8/dist-packages (from spacy<3.0.0->texthero) (1.1.3)\n",
            "Requirement already satisfied: setuptools in /usr/local/lib/python3.8/dist-packages (from spacy<3.0.0->texthero) (57.4.0)\n",
            "Collecting thinc<7.5.0,>=7.4.1\n",
            "  Using cached thinc-7.4.6-cp38-cp38-manylinux_2_17_x86_64.manylinux2014_x86_64.whl (1.1 MB)\n",
            "Requirement already satisfied: requests<3.0.0,>=2.13.0 in /usr/local/lib/python3.8/dist-packages (from spacy<3.0.0->texthero) (2.25.1)\n",
            "Requirement already satisfied: blis<0.8.0,>=0.4.0 in /usr/local/lib/python3.8/dist-packages (from spacy<3.0.0->texthero) (0.7.9)\n",
            "Requirement already satisfied: cymem<2.1.0,>=2.0.2 in /usr/local/lib/python3.8/dist-packages (from spacy<3.0.0->texthero) (2.0.7)\n",
            "Requirement already satisfied: preshed<3.1.0,>=3.0.2 in /usr/local/lib/python3.8/dist-packages (from spacy<3.0.0->texthero) (3.0.8)\n",
            "Requirement already satisfied: wasabi<1.1.0,>=0.4.0 in /usr/local/lib/python3.8/dist-packages (from spacy<3.0.0->texthero) (0.10.1)\n",
            "Collecting srsly<1.1.0,>=1.0.2\n",
            "  Using cached srsly-1.0.6-cp38-cp38-manylinux_2_17_x86_64.manylinux2014_x86_64.whl (211 kB)\n",
            "Collecting catalogue<1.1.0,>=0.0.7\n",
            "  Using cached catalogue-1.0.2-py2.py3-none-any.whl (16 kB)\n",
            "Requirement already satisfied: pillow in /usr/local/lib/python3.8/dist-packages (from wordcloud>=1.5.0->texthero) (7.1.2)\n",
            "Requirement already satisfied: certifi>=2017.4.17 in /usr/local/lib/python3.8/dist-packages (from requests<3.0.0,>=2.13.0->spacy<3.0.0->texthero) (2022.12.7)\n",
            "Requirement already satisfied: idna<3,>=2.5 in /usr/local/lib/python3.8/dist-packages (from requests<3.0.0,>=2.13.0->spacy<3.0.0->texthero) (2.10)\n",
            "Requirement already satisfied: urllib3<1.27,>=1.21.1 in /usr/local/lib/python3.8/dist-packages (from requests<3.0.0,>=2.13.0->spacy<3.0.0->texthero) (1.24.3)\n",
            "Requirement already satisfied: chardet<5,>=3.0.2 in /usr/local/lib/python3.8/dist-packages (from requests<3.0.0,>=2.13.0->spacy<3.0.0->texthero) (4.0.0)\n",
            "Installing collected packages: srsly, catalogue, thinc, spacy\n",
            "  Attempting uninstall: srsly\n",
            "    Found existing installation: srsly 2.4.5\n",
            "    Uninstalling srsly-2.4.5:\n",
            "      Successfully uninstalled srsly-2.4.5\n",
            "  Attempting uninstall: catalogue\n",
            "    Found existing installation: catalogue 2.0.8\n",
            "    Uninstalling catalogue-2.0.8:\n",
            "      Successfully uninstalled catalogue-2.0.8\n",
            "  Attempting uninstall: thinc\n",
            "    Found existing installation: thinc 8.0.17\n",
            "    Uninstalling thinc-8.0.17:\n",
            "      Successfully uninstalled thinc-8.0.17\n",
            "  Attempting uninstall: spacy\n",
            "    Found existing installation: spacy 3.0.0\n",
            "    Uninstalling spacy-3.0.0:\n",
            "      Successfully uninstalled spacy-3.0.0\n",
            "\u001b[31mERROR: pip's dependency resolver does not currently take into account all the packages that are installed. This behaviour is the source of the following dependency conflicts.\n",
            "en-core-web-sm 3.0.0 requires spacy<3.1.0,>=3.0.0, but you have spacy 2.3.9 which is incompatible.\n",
            "confection 0.0.4 requires srsly<3.0.0,>=2.4.0, but you have srsly 1.0.6 which is incompatible.\u001b[0m\u001b[31m\n",
            "\u001b[0mSuccessfully installed catalogue-1.0.2 spacy-2.3.9 srsly-1.0.6 thinc-7.4.6\n",
            "Looking in indexes: https://pypi.org/simple, https://us-python.pkg.dev/colab-wheels/public/simple/\n",
            "Collecting spacy==3.0.0\n",
            "  Using cached spacy-3.0.0-cp38-cp38-manylinux2014_x86_64.whl (12.9 MB)\n",
            "Collecting thinc<8.1.0,>=8.0.0\n",
            "  Using cached thinc-8.0.17-cp38-cp38-manylinux_2_17_x86_64.manylinux2014_x86_64.whl (671 kB)\n",
            "Collecting catalogue<2.1.0,>=2.0.1\n",
            "  Using cached catalogue-2.0.8-py3-none-any.whl (17 kB)\n",
            "Requirement already satisfied: typer<0.4.0,>=0.3.0 in /usr/local/lib/python3.8/dist-packages (from spacy==3.0.0) (0.3.2)\n",
            "Requirement already satisfied: tqdm<5.0.0,>=4.38.0 in /usr/local/lib/python3.8/dist-packages (from spacy==3.0.0) (4.64.1)\n",
            "Requirement already satisfied: numpy>=1.15.0 in /usr/local/lib/python3.8/dist-packages (from spacy==3.0.0) (1.21.6)\n",
            "Requirement already satisfied: pydantic<1.8.0,>=1.7.1 in /usr/local/lib/python3.8/dist-packages (from spacy==3.0.0) (1.7.4)\n",
            "Requirement already satisfied: blis<0.8.0,>=0.4.0 in /usr/local/lib/python3.8/dist-packages (from spacy==3.0.0) (0.7.9)\n",
            "Requirement already satisfied: jinja2 in /usr/local/lib/python3.8/dist-packages (from spacy==3.0.0) (2.11.3)\n",
            "Requirement already satisfied: packaging>=20.0 in /usr/local/lib/python3.8/dist-packages (from spacy==3.0.0) (23.0)\n",
            "Requirement already satisfied: spacy-legacy<3.1.0,>=3.0.0 in /usr/local/lib/python3.8/dist-packages (from spacy==3.0.0) (3.0.12)\n",
            "Requirement already satisfied: requests<3.0.0,>=2.13.0 in /usr/local/lib/python3.8/dist-packages (from spacy==3.0.0) (2.25.1)\n",
            "Requirement already satisfied: setuptools in /usr/local/lib/python3.8/dist-packages (from spacy==3.0.0) (57.4.0)\n",
            "Requirement already satisfied: pathy in /usr/local/lib/python3.8/dist-packages (from spacy==3.0.0) (0.10.1)\n",
            "Collecting srsly<3.0.0,>=2.4.0\n",
            "  Using cached srsly-2.4.5-cp38-cp38-manylinux_2_17_x86_64.manylinux2014_x86_64.whl (492 kB)\n",
            "Requirement already satisfied: cymem<2.1.0,>=2.0.2 in /usr/local/lib/python3.8/dist-packages (from spacy==3.0.0) (2.0.7)\n",
            "Requirement already satisfied: wasabi<1.1.0,>=0.8.1 in /usr/local/lib/python3.8/dist-packages (from spacy==3.0.0) (0.10.1)\n",
            "Requirement already satisfied: murmurhash<1.1.0,>=0.28.0 in /usr/local/lib/python3.8/dist-packages (from spacy==3.0.0) (1.0.9)\n",
            "Requirement already satisfied: preshed<3.1.0,>=3.0.2 in /usr/local/lib/python3.8/dist-packages (from spacy==3.0.0) (3.0.8)\n",
            "Requirement already satisfied: certifi>=2017.4.17 in /usr/local/lib/python3.8/dist-packages (from requests<3.0.0,>=2.13.0->spacy==3.0.0) (2022.12.7)\n",
            "Requirement already satisfied: chardet<5,>=3.0.2 in /usr/local/lib/python3.8/dist-packages (from requests<3.0.0,>=2.13.0->spacy==3.0.0) (4.0.0)\n",
            "Requirement already satisfied: idna<3,>=2.5 in /usr/local/lib/python3.8/dist-packages (from requests<3.0.0,>=2.13.0->spacy==3.0.0) (2.10)\n",
            "Requirement already satisfied: urllib3<1.27,>=1.21.1 in /usr/local/lib/python3.8/dist-packages (from requests<3.0.0,>=2.13.0->spacy==3.0.0) (1.24.3)\n",
            "Requirement already satisfied: click<7.2.0,>=7.1.1 in /usr/local/lib/python3.8/dist-packages (from typer<0.4.0,>=0.3.0->spacy==3.0.0) (7.1.2)\n",
            "Requirement already satisfied: MarkupSafe>=0.23 in /usr/local/lib/python3.8/dist-packages (from jinja2->spacy==3.0.0) (2.0.1)\n",
            "Requirement already satisfied: smart-open<7.0.0,>=5.2.1 in /usr/local/lib/python3.8/dist-packages (from pathy->spacy==3.0.0) (6.3.0)\n",
            "Installing collected packages: catalogue, srsly, thinc, spacy\n",
            "  Attempting uninstall: catalogue\n",
            "    Found existing installation: catalogue 1.0.2\n",
            "    Uninstalling catalogue-1.0.2:\n",
            "      Successfully uninstalled catalogue-1.0.2\n",
            "  Attempting uninstall: srsly\n",
            "    Found existing installation: srsly 1.0.6\n",
            "    Uninstalling srsly-1.0.6:\n",
            "      Successfully uninstalled srsly-1.0.6\n",
            "  Attempting uninstall: thinc\n",
            "    Found existing installation: thinc 7.4.6\n",
            "    Uninstalling thinc-7.4.6:\n",
            "      Successfully uninstalled thinc-7.4.6\n",
            "  Attempting uninstall: spacy\n",
            "    Found existing installation: spacy 2.3.9\n",
            "    Uninstalling spacy-2.3.9:\n",
            "      Successfully uninstalled spacy-2.3.9\n",
            "\u001b[31mERROR: pip's dependency resolver does not currently take into account all the packages that are installed. This behaviour is the source of the following dependency conflicts.\n",
            "texthero 1.1.0 requires spacy<3.0.0, but you have spacy 3.0.0 which is incompatible.\u001b[0m\u001b[31m\n",
            "\u001b[0mSuccessfully installed catalogue-2.0.8 spacy-3.0.0 srsly-2.4.5 thinc-8.0.17\n",
            "/usr/local/lib/python3.8/dist-packages/torch/cuda/__init__.py:497: UserWarning: Can't initialize NVML\n",
            "  warnings.warn(\"Can't initialize NVML\")\n",
            "2023-02-14 01:18:01.410728: W tensorflow/compiler/xla/stream_executor/platform/default/dso_loader.cc:64] Could not load dynamic library 'libnvinfer.so.7'; dlerror: libnvinfer.so.7: cannot open shared object file: No such file or directory; LD_LIBRARY_PATH: /usr/local/nvidia/lib:/usr/local/nvidia/lib64\n",
            "2023-02-14 01:18:01.410925: W tensorflow/compiler/xla/stream_executor/platform/default/dso_loader.cc:64] Could not load dynamic library 'libnvinfer_plugin.so.7'; dlerror: libnvinfer_plugin.so.7: cannot open shared object file: No such file or directory; LD_LIBRARY_PATH: /usr/local/nvidia/lib:/usr/local/nvidia/lib64\n",
            "2023-02-14 01:18:01.410956: W tensorflow/compiler/tf2tensorrt/utils/py_utils.cc:38] TF-TRT Warning: Cannot dlopen some TensorRT libraries. If you would like to use Nvidia GPU with TensorRT, please make sure the missing libraries mentioned above are installed properly.\n",
            "Looking in indexes: https://pypi.org/simple, https://us-python.pkg.dev/colab-wheels/public/simple/\n",
            "Collecting en-core-web-sm==3.0.0\n",
            "  Downloading https://github.com/explosion/spacy-models/releases/download/en_core_web_sm-3.0.0/en_core_web_sm-3.0.0-py3-none-any.whl (13.7 MB)\n",
            "\u001b[2K     \u001b[90m━━━━━━━━━━━━━━━━━━━━━━━━━━━━━━━━━━━━━━━━\u001b[0m \u001b[32m13.7/13.7 MB\u001b[0m \u001b[31m11.1 MB/s\u001b[0m eta \u001b[36m0:00:00\u001b[0m\n",
            "\u001b[?25hRequirement already satisfied: spacy<3.1.0,>=3.0.0 in /usr/local/lib/python3.8/dist-packages (from en-core-web-sm==3.0.0) (3.0.0)\n",
            "Requirement already satisfied: cymem<2.1.0,>=2.0.2 in /usr/local/lib/python3.8/dist-packages (from spacy<3.1.0,>=3.0.0->en-core-web-sm==3.0.0) (2.0.7)\n",
            "Requirement already satisfied: blis<0.8.0,>=0.4.0 in /usr/local/lib/python3.8/dist-packages (from spacy<3.1.0,>=3.0.0->en-core-web-sm==3.0.0) (0.7.9)\n",
            "Requirement already satisfied: preshed<3.1.0,>=3.0.2 in /usr/local/lib/python3.8/dist-packages (from spacy<3.1.0,>=3.0.0->en-core-web-sm==3.0.0) (3.0.8)\n",
            "Requirement already satisfied: tqdm<5.0.0,>=4.38.0 in /usr/local/lib/python3.8/dist-packages (from spacy<3.1.0,>=3.0.0->en-core-web-sm==3.0.0) (4.64.1)\n",
            "Requirement already satisfied: setuptools in /usr/local/lib/python3.8/dist-packages (from spacy<3.1.0,>=3.0.0->en-core-web-sm==3.0.0) (57.4.0)\n",
            "Requirement already satisfied: catalogue<2.1.0,>=2.0.1 in /usr/local/lib/python3.8/dist-packages (from spacy<3.1.0,>=3.0.0->en-core-web-sm==3.0.0) (2.0.8)\n",
            "Requirement already satisfied: murmurhash<1.1.0,>=0.28.0 in /usr/local/lib/python3.8/dist-packages (from spacy<3.1.0,>=3.0.0->en-core-web-sm==3.0.0) (1.0.9)\n",
            "Requirement already satisfied: wasabi<1.1.0,>=0.8.1 in /usr/local/lib/python3.8/dist-packages (from spacy<3.1.0,>=3.0.0->en-core-web-sm==3.0.0) (0.10.1)\n",
            "Requirement already satisfied: srsly<3.0.0,>=2.4.0 in /usr/local/lib/python3.8/dist-packages (from spacy<3.1.0,>=3.0.0->en-core-web-sm==3.0.0) (2.4.5)\n",
            "Requirement already satisfied: spacy-legacy<3.1.0,>=3.0.0 in /usr/local/lib/python3.8/dist-packages (from spacy<3.1.0,>=3.0.0->en-core-web-sm==3.0.0) (3.0.12)\n",
            "Requirement already satisfied: pathy in /usr/local/lib/python3.8/dist-packages (from spacy<3.1.0,>=3.0.0->en-core-web-sm==3.0.0) (0.10.1)\n",
            "Requirement already satisfied: numpy>=1.15.0 in /usr/local/lib/python3.8/dist-packages (from spacy<3.1.0,>=3.0.0->en-core-web-sm==3.0.0) (1.21.6)\n",
            "Requirement already satisfied: requests<3.0.0,>=2.13.0 in /usr/local/lib/python3.8/dist-packages (from spacy<3.1.0,>=3.0.0->en-core-web-sm==3.0.0) (2.25.1)\n",
            "Requirement already satisfied: packaging>=20.0 in /usr/local/lib/python3.8/dist-packages (from spacy<3.1.0,>=3.0.0->en-core-web-sm==3.0.0) (23.0)\n",
            "Requirement already satisfied: pydantic<1.8.0,>=1.7.1 in /usr/local/lib/python3.8/dist-packages (from spacy<3.1.0,>=3.0.0->en-core-web-sm==3.0.0) (1.7.4)\n",
            "Requirement already satisfied: thinc<8.1.0,>=8.0.0 in /usr/local/lib/python3.8/dist-packages (from spacy<3.1.0,>=3.0.0->en-core-web-sm==3.0.0) (8.0.17)\n",
            "Requirement already satisfied: jinja2 in /usr/local/lib/python3.8/dist-packages (from spacy<3.1.0,>=3.0.0->en-core-web-sm==3.0.0) (2.11.3)\n",
            "Requirement already satisfied: typer<0.4.0,>=0.3.0 in /usr/local/lib/python3.8/dist-packages (from spacy<3.1.0,>=3.0.0->en-core-web-sm==3.0.0) (0.3.2)\n",
            "Requirement already satisfied: certifi>=2017.4.17 in /usr/local/lib/python3.8/dist-packages (from requests<3.0.0,>=2.13.0->spacy<3.1.0,>=3.0.0->en-core-web-sm==3.0.0) (2022.12.7)\n",
            "Requirement already satisfied: urllib3<1.27,>=1.21.1 in /usr/local/lib/python3.8/dist-packages (from requests<3.0.0,>=2.13.0->spacy<3.1.0,>=3.0.0->en-core-web-sm==3.0.0) (1.24.3)\n",
            "Requirement already satisfied: idna<3,>=2.5 in /usr/local/lib/python3.8/dist-packages (from requests<3.0.0,>=2.13.0->spacy<3.1.0,>=3.0.0->en-core-web-sm==3.0.0) (2.10)\n",
            "Requirement already satisfied: chardet<5,>=3.0.2 in /usr/local/lib/python3.8/dist-packages (from requests<3.0.0,>=2.13.0->spacy<3.1.0,>=3.0.0->en-core-web-sm==3.0.0) (4.0.0)\n",
            "Requirement already satisfied: click<7.2.0,>=7.1.1 in /usr/local/lib/python3.8/dist-packages (from typer<0.4.0,>=0.3.0->spacy<3.1.0,>=3.0.0->en-core-web-sm==3.0.0) (7.1.2)\n",
            "Requirement already satisfied: MarkupSafe>=0.23 in /usr/local/lib/python3.8/dist-packages (from jinja2->spacy<3.1.0,>=3.0.0->en-core-web-sm==3.0.0) (2.0.1)\n",
            "Requirement already satisfied: smart-open<7.0.0,>=5.2.1 in /usr/local/lib/python3.8/dist-packages (from pathy->spacy<3.1.0,>=3.0.0->en-core-web-sm==3.0.0) (6.3.0)\n",
            "\u001b[38;5;2m✔ Download and installation successful\u001b[0m\n",
            "You can now load the package via spacy.load('en_core_web_sm')\n"
          ]
        }
      ],
      "source": [
        "!pip3 install texthero\n",
        "!pip3 install spacy==3.0.0\n",
        "!python3 -m spacy download en_core_web_sm"
      ]
    },
    {
      "cell_type": "code",
      "execution_count": null,
      "id": "subjective-moldova",
      "metadata": {
        "colab": {
          "base_uri": "https://localhost:8080/"
        },
        "id": "subjective-moldova",
        "outputId": "170c7f86-5f23-498d-d624-54c8e0cbec5a"
      },
      "outputs": [
        {
          "output_type": "stream",
          "name": "stdout",
          "text": [
            "Help on package texthero:\n",
            "\n",
            "NAME\n",
            "    texthero - Texthero: python toolkit for text preprocessing, representation and visualization.\n",
            "\n",
            "PACKAGE CONTENTS\n",
            "    nlp\n",
            "    preprocessing\n",
            "    representation\n",
            "    stopwords\n",
            "    visualization\n",
            "\n",
            "DATA\n",
            "    Callable = typing.Callable\n",
            "    List = typing.List\n",
            "    Optional = typing.Optional\n",
            "    Set = typing.Set\n",
            "\n",
            "FILE\n",
            "    /usr/local/lib/python3.8/dist-packages/texthero/__init__.py\n",
            "\n",
            "\n"
          ]
        }
      ],
      "source": [
        "import texthero\n",
        "help(texthero)"
      ]
    },
    {
      "cell_type": "markdown",
      "id": "printable-change",
      "metadata": {
        "id": "printable-change"
      },
      "source": [
        "#### Text Preprocessing"
      ]
    },
    {
      "cell_type": "code",
      "execution_count": null,
      "id": "harmful-windows",
      "metadata": {
        "id": "harmful-windows"
      },
      "outputs": [],
      "source": [
        "import pandas as pd\n",
        "text=\"It's a pleasant   day at Bangaloré; at / (10:30) am \"\n",
        "series=pd.Series(text)"
      ]
    },
    {
      "cell_type": "code",
      "execution_count": null,
      "id": "frozen-constitution",
      "metadata": {
        "id": "frozen-constitution",
        "colab": {
          "base_uri": "https://localhost:8080/"
        },
        "outputId": "4afcf59c-f482-412d-fbeb-bf4f681865e7"
      },
      "outputs": [
        {
          "output_type": "execute_result",
          "data": {
            "text/plain": [
              "0    It's a pleasant   day at Bangaloré; at / (10:3...\n",
              "dtype: object"
            ]
          },
          "metadata": {},
          "execution_count": 34
        }
      ],
      "source": [
        "series"
      ]
    },
    {
      "cell_type": "code",
      "execution_count": null,
      "id": "valued-extra",
      "metadata": {
        "id": "valued-extra",
        "colab": {
          "base_uri": "https://localhost:8080/"
        },
        "outputId": "68fce13b-985a-4e66-96e1-9fb15b2ac2ae"
      },
      "outputs": [
        {
          "output_type": "execute_result",
          "data": {
            "text/plain": [
              "0    It's a pleasant   day at Bangaloré; at / ( : )...\n",
              "dtype: object"
            ]
          },
          "metadata": {},
          "execution_count": 35
        }
      ],
      "source": [
        "import texthero as hero\n",
        "\n",
        "hero.remove_digits(series)"
      ]
    },
    {
      "cell_type": "code",
      "execution_count": null,
      "id": "subject-letters",
      "metadata": {
        "id": "subject-letters",
        "colab": {
          "base_uri": "https://localhost:8080/"
        },
        "outputId": "7545e962-4211-4f2e-dc71-54e6e37e2b27"
      },
      "outputs": [
        {
          "output_type": "execute_result",
          "data": {
            "text/plain": [
              "0    It s a pleasant   day at Bangaloré  at    10 3...\n",
              "dtype: object"
            ]
          },
          "metadata": {},
          "execution_count": 36
        }
      ],
      "source": [
        "#### Remove punctuations\n",
        "hero.remove_punctuation(series)"
      ]
    },
    {
      "cell_type": "code",
      "execution_count": null,
      "id": "south-reverse",
      "metadata": {
        "id": "south-reverse",
        "colab": {
          "base_uri": "https://localhost:8080/"
        },
        "outputId": "c6d76118-8bce-4cb9-de4e-5e81658321ed"
      },
      "outputs": [
        {
          "output_type": "execute_result",
          "data": {
            "text/plain": [
              "0    It's a pleasant   day at Bangaloré; at /  am \n",
              "dtype: object"
            ]
          },
          "metadata": {},
          "execution_count": 37
        }
      ],
      "source": [
        "#### Remove Brackets\n",
        "hero.remove_brackets(series)"
      ]
    },
    {
      "cell_type": "code",
      "execution_count": null,
      "id": "comfortable-operation",
      "metadata": {
        "id": "comfortable-operation",
        "colab": {
          "base_uri": "https://localhost:8080/"
        },
        "outputId": "ffe0df0e-b85d-4006-d1de-8a52c1d4a9e9"
      },
      "outputs": [
        {
          "output_type": "execute_result",
          "data": {
            "text/plain": [
              "0    It's a pleasant   day at Bangalore; at / (10:3...\n",
              "dtype: object"
            ]
          },
          "metadata": {},
          "execution_count": 38
        }
      ],
      "source": [
        "hero.remove_diacritics(series)"
      ]
    },
    {
      "cell_type": "code",
      "execution_count": null,
      "id": "pleasant-antique",
      "metadata": {
        "id": "pleasant-antique",
        "colab": {
          "base_uri": "https://localhost:8080/"
        },
        "outputId": "b19af5a4-69d2-4614-b732-ba0e197cf654"
      },
      "outputs": [
        {
          "output_type": "execute_result",
          "data": {
            "text/plain": [
              "0    It's a pleasant day at Bangaloré; at / (10:30) am\n",
              "dtype: object"
            ]
          },
          "metadata": {},
          "execution_count": 39
        }
      ],
      "source": [
        "hero.remove_whitespace(series)"
      ]
    },
    {
      "cell_type": "code",
      "execution_count": null,
      "id": "baking-aurora",
      "metadata": {
        "id": "baking-aurora",
        "colab": {
          "base_uri": "https://localhost:8080/"
        },
        "outputId": "d42841a4-6c4c-4557-aa5e-4f78ef7e7703"
      },
      "outputs": [
        {
          "output_type": "execute_result",
          "data": {
            "text/plain": [
              "0    It'  pleasant   day  Bangaloré;  / (10:30)  \n",
              "dtype: object"
            ]
          },
          "metadata": {},
          "execution_count": 40
        }
      ],
      "source": [
        "### Stopwords\n",
        "hero.remove_stopwords(series)"
      ]
    },
    {
      "cell_type": "code",
      "execution_count": null,
      "id": "convenient-proportion",
      "metadata": {
        "id": "convenient-proportion",
        "colab": {
          "base_uri": "https://localhost:8080/"
        },
        "outputId": "63e36890-5e30-4bc3-e70f-525e312756ce"
      },
      "outputs": [
        {
          "output_type": "execute_result",
          "data": {
            "text/plain": [
              "0    pleasant day bangalore\n",
              "dtype: object"
            ]
          },
          "metadata": {},
          "execution_count": 41
        }
      ],
      "source": [
        "hero.clean(series)"
      ]
    },
    {
      "cell_type": "code",
      "execution_count": null,
      "id": "iraqi-variable",
      "metadata": {
        "id": "iraqi-variable",
        "colab": {
          "base_uri": "https://localhost:8080/",
          "height": 206
        },
        "outputId": "73ffd213-865c-407f-add3-ec2bf415753c"
      },
      "outputs": [
        {
          "output_type": "execute_result",
          "data": {
            "text/plain": [
              "                                                text\n",
              "0   Theo Sky News  trong video nhân viên cứu hộ b...\n",
              "1   Vật thể bay thứ 4 bị bắn hạ trên không phận H...\n",
              "2   Ghi nhận của PV VietNamNet những ngày này  ng...\n",
              "3   Duy trì việc đảm bảo an toàn giao thông sau d...\n",
              "4   Sau một chút chững lại  MU tiếp tục thi đấu ấ..."
            ],
            "text/html": [
              "\n",
              "  <div id=\"df-fb4dfeb1-8c38-4cfd-bf0a-98072f2be3f9\">\n",
              "    <div class=\"colab-df-container\">\n",
              "      <div>\n",
              "<style scoped>\n",
              "    .dataframe tbody tr th:only-of-type {\n",
              "        vertical-align: middle;\n",
              "    }\n",
              "\n",
              "    .dataframe tbody tr th {\n",
              "        vertical-align: top;\n",
              "    }\n",
              "\n",
              "    .dataframe thead th {\n",
              "        text-align: right;\n",
              "    }\n",
              "</style>\n",
              "<table border=\"1\" class=\"dataframe\">\n",
              "  <thead>\n",
              "    <tr style=\"text-align: right;\">\n",
              "      <th></th>\n",
              "      <th>text</th>\n",
              "    </tr>\n",
              "  </thead>\n",
              "  <tbody>\n",
              "    <tr>\n",
              "      <th>0</th>\n",
              "      <td>Theo Sky News  trong video nhân viên cứu hộ b...</td>\n",
              "    </tr>\n",
              "    <tr>\n",
              "      <th>1</th>\n",
              "      <td>Vật thể bay thứ 4 bị bắn hạ trên không phận H...</td>\n",
              "    </tr>\n",
              "    <tr>\n",
              "      <th>2</th>\n",
              "      <td>Ghi nhận của PV VietNamNet những ngày này  ng...</td>\n",
              "    </tr>\n",
              "    <tr>\n",
              "      <th>3</th>\n",
              "      <td>Duy trì việc đảm bảo an toàn giao thông sau d...</td>\n",
              "    </tr>\n",
              "    <tr>\n",
              "      <th>4</th>\n",
              "      <td>Sau một chút chững lại  MU tiếp tục thi đấu ấ...</td>\n",
              "    </tr>\n",
              "  </tbody>\n",
              "</table>\n",
              "</div>\n",
              "      <button class=\"colab-df-convert\" onclick=\"convertToInteractive('df-fb4dfeb1-8c38-4cfd-bf0a-98072f2be3f9')\"\n",
              "              title=\"Convert this dataframe to an interactive table.\"\n",
              "              style=\"display:none;\">\n",
              "        \n",
              "  <svg xmlns=\"http://www.w3.org/2000/svg\" height=\"24px\"viewBox=\"0 0 24 24\"\n",
              "       width=\"24px\">\n",
              "    <path d=\"M0 0h24v24H0V0z\" fill=\"none\"/>\n",
              "    <path d=\"M18.56 5.44l.94 2.06.94-2.06 2.06-.94-2.06-.94-.94-2.06-.94 2.06-2.06.94zm-11 1L8.5 8.5l.94-2.06 2.06-.94-2.06-.94L8.5 2.5l-.94 2.06-2.06.94zm10 10l.94 2.06.94-2.06 2.06-.94-2.06-.94-.94-2.06-.94 2.06-2.06.94z\"/><path d=\"M17.41 7.96l-1.37-1.37c-.4-.4-.92-.59-1.43-.59-.52 0-1.04.2-1.43.59L10.3 9.45l-7.72 7.72c-.78.78-.78 2.05 0 2.83L4 21.41c.39.39.9.59 1.41.59.51 0 1.02-.2 1.41-.59l7.78-7.78 2.81-2.81c.8-.78.8-2.07 0-2.86zM5.41 20L4 18.59l7.72-7.72 1.47 1.35L5.41 20z\"/>\n",
              "  </svg>\n",
              "      </button>\n",
              "      \n",
              "  <style>\n",
              "    .colab-df-container {\n",
              "      display:flex;\n",
              "      flex-wrap:wrap;\n",
              "      gap: 12px;\n",
              "    }\n",
              "\n",
              "    .colab-df-convert {\n",
              "      background-color: #E8F0FE;\n",
              "      border: none;\n",
              "      border-radius: 50%;\n",
              "      cursor: pointer;\n",
              "      display: none;\n",
              "      fill: #1967D2;\n",
              "      height: 32px;\n",
              "      padding: 0 0 0 0;\n",
              "      width: 32px;\n",
              "    }\n",
              "\n",
              "    .colab-df-convert:hover {\n",
              "      background-color: #E2EBFA;\n",
              "      box-shadow: 0px 1px 2px rgba(60, 64, 67, 0.3), 0px 1px 3px 1px rgba(60, 64, 67, 0.15);\n",
              "      fill: #174EA6;\n",
              "    }\n",
              "\n",
              "    [theme=dark] .colab-df-convert {\n",
              "      background-color: #3B4455;\n",
              "      fill: #D2E3FC;\n",
              "    }\n",
              "\n",
              "    [theme=dark] .colab-df-convert:hover {\n",
              "      background-color: #434B5C;\n",
              "      box-shadow: 0px 1px 3px 1px rgba(0, 0, 0, 0.15);\n",
              "      filter: drop-shadow(0px 1px 2px rgba(0, 0, 0, 0.3));\n",
              "      fill: #FFFFFF;\n",
              "    }\n",
              "  </style>\n",
              "\n",
              "      <script>\n",
              "        const buttonEl =\n",
              "          document.querySelector('#df-fb4dfeb1-8c38-4cfd-bf0a-98072f2be3f9 button.colab-df-convert');\n",
              "        buttonEl.style.display =\n",
              "          google.colab.kernel.accessAllowed ? 'block' : 'none';\n",
              "\n",
              "        async function convertToInteractive(key) {\n",
              "          const element = document.querySelector('#df-fb4dfeb1-8c38-4cfd-bf0a-98072f2be3f9');\n",
              "          const dataTable =\n",
              "            await google.colab.kernel.invokeFunction('convertToInteractive',\n",
              "                                                     [key], {});\n",
              "          if (!dataTable) return;\n",
              "\n",
              "          const docLinkHtml = 'Like what you see? Visit the ' +\n",
              "            '<a target=\"_blank\" href=https://colab.research.google.com/notebooks/data_table.ipynb>data table notebook</a>'\n",
              "            + ' to learn more about interactive tables.';\n",
              "          element.innerHTML = '';\n",
              "          dataTable['output_type'] = 'display_data';\n",
              "          await google.colab.output.renderOutput(dataTable, element);\n",
              "          const docLink = document.createElement('div');\n",
              "          docLink.innerHTML = docLinkHtml;\n",
              "          element.appendChild(docLink);\n",
              "        }\n",
              "      </script>\n",
              "    </div>\n",
              "  </div>\n",
              "  "
            ]
          },
          "metadata": {},
          "execution_count": 42
        }
      ],
      "source": [
        "df = pd.read_csv(\n",
        "   \"https://raw.githubusercontent.com/thesunsavior/Vietnamese-Fake-News-Generation/main/data.csv\"\n",
        ")\n",
        "df.head()"
      ]
    },
    {
      "cell_type": "code",
      "execution_count": null,
      "id": "excellent-longitude",
      "metadata": {
        "id": "excellent-longitude",
        "colab": {
          "base_uri": "https://localhost:8080/",
          "height": 542
        },
        "outputId": "ed761dae-c5f5-44ad-ca1f-3fdfa67a69bf"
      },
      "outputs": [
        {
          "output_type": "display_data",
          "data": {
            "text/html": [
              "<html>\n",
              "<head><meta charset=\"utf-8\" /></head>\n",
              "<body>\n",
              "    <div>            <script src=\"https://cdnjs.cloudflare.com/ajax/libs/mathjax/2.7.5/MathJax.js?config=TeX-AMS-MML_SVG\"></script><script type=\"text/javascript\">if (window.MathJax) {MathJax.Hub.Config({SVG: {font: \"STIX-Web\"}});}</script>                <script type=\"text/javascript\">window.PlotlyConfig = {MathJaxConfig: 'local'};</script>\n",
              "        <script src=\"https://cdn.plot.ly/plotly-2.8.3.min.js\"></script>                <div id=\"ee1f91cf-a1ad-4ec6-ae99-ab34b1cd3fd1\" class=\"plotly-graph-div\" style=\"height:525px; width:100%;\"></div>            <script type=\"text/javascript\">                                    window.PLOTLYENV=window.PLOTLYENV || {};                                    if (document.getElementById(\"ee1f91cf-a1ad-4ec6-ae99-ab34b1cd3fd1\")) {                    Plotly.newPlot(                        \"ee1f91cf-a1ad-4ec6-ae99-ab34b1cd3fd1\",                        [{\"hovertemplate\":\"x=%{x}<br>y=%{y}<extra></extra>\",\"legendgroup\":\"\",\"marker\":{\"color\":\"#636efa\",\"symbol\":\"circle\"},\"mode\":\"markers\",\"name\":\"\",\"orientation\":\"v\",\"showlegend\":false,\"x\":[-0.008680789231918798,-0.034802105339411644,-0.011172812201090248,-0.024860258024180383,0.9598670953552246,-0.03241340175147478,-0.08137553197534828,0.03360028450554796,-0.017021715447096443,0.9598670953552246,0.0028235463867335576,0.9598670953552246,0.02433883938001697,-0.07103583347269368,0.0002958156973243232,0.013884270000103791,0.022002774270081103,-0.004778675987071704,0.02433883938001697,-0.013718000804233457,0.005722894828425373,0.01240506359921468,-0.04199514972831083,-0.08005671964321477,-0.1460598382595429,-0.029674195865588598,0.01641731616693805,-0.013304293041889143,0.01641731616693805,-0.07253932288349536,-0.015728387399221697,0.9598670953552246,0.9598670953552246,-0.0049735699139273545,0.004983047695318527,-0.06796682771100333,0.9598670953552246,-0.030595982433369164,0.05023358639070356,0.017326764281547846,0.9598670953552246,-0.003372967338587683,-0.03260556010569487,-0.027976751493398497,-0.012321054058610099,0.0005104150135896916,-0.040129467704126655,0.02433883938001697,-0.03247186486899236,-0.02272496964629114,-0.049596327960737714,-0.06419819135333638,-0.00767320595571313,-0.028506652194349502,0.1109115334477517,-0.014535169409809453,0.050827507652986714,-0.039253280287645825,0.9598670953552246,-0.00014972463835323508,-0.006153892731011035,-0.03633699311881579,0.02433883938001697,-0.00927955633933827,0.04174164211115956,-0.052802990894305686,-0.007321912790546018,0.02433883938001697,-0.006153892731011035,0.06070612256911475,-0.07068840201852268,-0.049003319930513226,0.008747848476836564,-0.008840293905429415,-0.05334736948363562,0.9598670953552246,-0.07289693495656989,-0.11183164618785875,-0.1246013763838184,0.02280918214690042,-0.0025500771894423173,-0.10834438620094983,0.017186973461333955,-0.01456200688218289,-0.13284645291159444,0.08167616133382251,0.012192679549738737,-0.05939102405197472,-0.011345088997035733,-0.05817553992539548,0.07418249114785384,-0.01925895910890962,0.0024913009026552896,-0.009952790272535346,-0.08411818188180863,-0.04199524459372426,-0.06987331607201785,0.01599911863725899,-0.07393818613456947,0.06894703552799152,0.0035928812256632646,0.057239558444851686,-0.0521974590422575,0.06894703552799152,-0.045603882761719255,-0.013115597795297954,-0.040192870251792794,0.0913224058433668,-0.022417111514764988,-0.005456897335590724,-0.05101982677555984,-0.13898827134802555,0.05259976522204103,0.00017286265047369295,-0.03475059573041911,0.0063509170664938965,0.027458896458073697,-0.021239081254206774,0.01254491410873731,-0.04744162798432001,0.01961140355176853,-0.08529954987662239,-0.07951670513470839,-0.026614829840508787,0.022676148206985918,-0.011426148358977622,-0.026688654820539556,0.003510537298854335,0.004376189519245505,0.00829654434529494,-0.02226919427777677,-0.07073995294924774,-0.05895626935230121,0.11581415253568449,-0.0015013714297249143,-0.02596207646053874,0.01325458187999739,0.0007142744729250583,-0.03658592381654758,-0.05235529291548362,-0.028420363541781426,0.004563417252835841,-0.011593674746674115,-0.08279656257007731,-0.03493335413349554,0.03905380784554122,-0.017772209484372286,0.09098537788308911,-0.005184242509232259,-0.01596799036867028,-0.0594242061711594,-0.011756279632243596,0.007706850643424671,0.004415500462312065,-0.04688072316068737,-0.05176915351913635,0.001937073563425221,-0.010066384670313669,-0.059422022293969166,-0.035384245920122216,-0.045347844882760446,-0.011558823822453653,-0.004578826538734255,-0.0067157281892328965,-0.030607355359992816,-0.045725199594603354,-0.034483375122728234,0.02213591000892183,-0.036106708277464275,-0.02601906476756809,-0.08166408619214545,-0.04095568247452237,-0.03495544344662963,-0.014896815875246059,0.008780332616104999,-0.061018054261927364,-0.09591031605927722,-0.08279724820586688,-0.027826011196283276,-0.056336763999162556,-0.08310266020001018,0.17956023971012866,0.010542134399519381,-0.015001060508848724,-0.021568183430837752,-0.11302614431243589,-0.031865099204146353,-0.14293441904206783,-0.019295844849087824,-0.05570336958750499,-0.015235588198773497,-0.03018343486955438,0.004528759181934013,-0.08305371823805643,-0.09675959546519748,0.00967055512471277,-0.03604042797323486,-0.008008117904432005,-0.0017938488187965124,-0.008955580818427459,-0.0714528661694184,-0.09224348214975667,-0.033220035133545045,0.06894703552799152,-0.02263310571163663,0.06894703552799152,0.0495061982946759,-0.0656278077025865,-0.07773136681116971,-0.0375567509985587,-0.061411425346967904,-0.031625810736940284,-0.003184409278541406,0.016813903530390653,0.06894703552799152,-0.09734186017664236,-0.05798258847568908,0.036069176658076525,-0.031148555279988274,-0.02417789169049401,0.0008685746939421527,0.00034204834529595894,-0.0002503522725983969,0.00029961962541825575,6.426688049893303e-05,-0.013465557081731045,-0.012386487911389382,-0.039124389781656846,-0.01629023278513991,-0.03939506619988541,0.06894703552799152,-0.005269763160394394,0.08979400251443655,0.09985842250295263,-0.06417841227206894,-0.05529554565038391,0.03851979147622858,-0.03381260356821536,0.020512761673729493,0.026639744331133565,0.03664812823601655,-0.032952309348814775,-0.036437523835039835,0.008502530376098383,0.024539502158776868,-0.01755477178930688,0.19461023506652075,-0.014918587578586216,-0.04725033174731748,-0.008974217111296848,0.0224001662547327,-0.03531986377447122,-0.04925262439704814,-0.03040784684575248,0.0224001662547327,-0.02253821459997171,-0.012681989125381047,-0.0026944629523152734,-0.009909883064113705,-0.04124163903290647,-0.01408372118003171,0.1660755942988493,-0.02093315381837546,-0.003555585620589318,0.06360786678255163,-0.06820996406144295,-0.017981470900731805,-0.02069621348435238,-0.026406822376001404,-0.04277613060629595,-0.0029133036097405154,0.01798585504695469,-0.0362945720131035,-0.05113212490254298,-0.033032232954433166,-0.12761254795424698,0.024087819399673874,0.05271736756131865,-0.07880130869777743,-0.016648667654512634,-0.060098402441536955,-0.14636551290017452,0.007198958830439539,-0.00014858667575905028,-0.04586040099132886,-0.012764992868764525,-0.09071992886405976,0.018913352573177448,0.02014804056735376,-0.06999921100822357,0.008650979605985707,-0.032080175463045965,-0.008694695563725086,-0.07583730405991529,-0.0824668045409407,-0.004436225257786771,0.03470888077392638,-0.01726046912716077,-0.06038888507220328,-0.008542274642916603,0.1287501172062415,-0.0424102196793694,-0.07051045908665618,-0.1203695463446365,-0.006877948848520079,-0.021835824906430077,-0.02800355660433377,-0.021566582939592467,-0.15222663711680312,-0.04675007045625618,0.02941080103595127,-0.03502131934516487,-0.025109829816582097,-0.1324973624870748,0.003668854958007376,-0.11501304048184559,0.024087819399673874,-0.01590792164862171,-0.060191990920202956,-0.05265196304409916,-0.03528740801373684,0.01811647818584051,-0.01719198646290405,0.04127516984310652,-0.0581702573280327,-0.08239148401642708,-0.11058775238444377,-0.06887388461029202,0.0055404848366898286,-0.024874275078620577,0.022778089721520865,-0.09271104939178719,-0.001923126925357543,-0.06737482109001425,-0.07397367496704123,-0.014895427509108942,0.0224001662547327,-0.11216004788282953,-0.07337003651781349,-0.1587494105967321,-8.238037574991894e-05,-0.10295719570227575,-0.0011305189363268848,-0.04566719024404615,0.03195944019946148,0.005498697017374273,0.05383196505869614,0.023315303509568744,-0.03589461329417004,-0.006037601297063542,0.01638623336827262,-0.009959076658240288,7.345615178676307e-05,0.036392338819318054,0.023058740325625326,-0.11719336353997206,-0.12347111357678042,-0.16049514740203266,-0.0983778213331042,0.02957458604486836,0.0823320217683198,0.010495309165961888,-0.04872864312851584,-0.034981861117755114,0.0224001662547327,-0.12210633025493729,0.020752717865232133,-0.053262533267622744,-0.024959744329046733,-0.13186653247202573,-0.11849648408184618,0.004290500971882127,-0.02980373285715371,-0.02222157366780676,0.04161096507965205,-0.12085601681876712,0.022927296871837387,-0.023824291302675944,-0.01673114935565517,0.025065333960103096,0.021322175380887938,-0.03835934578425692,-0.03670827285554921,0.014828804705861813,-0.03348795503852192,-0.10178582753272193,0.047943907877860084,-0.042007206469655466,-0.015675100627904417,0.06931490393544565,-0.021767707841845764,-0.04110064644932979,-0.10704330662694093,-0.007739381958539013,-0.016437690254557078,-0.04904618121509834,-0.05495410463146506,0.03351808641325004,-0.013370030320106172,-0.0009987599033141061,-0.05091441845523737,-0.08926625039667971,-0.05940169256312354,-0.08461544139084541,0.002827023029272943,0.05633852611276777,-0.03866066899765582,0.06322628608976492,-0.003194945945153076,0.09420035075590437,-0.04320254347053643,0.03928789442139749,-0.03694031726937001,-0.07133272186561013,0.009300797946847083,-0.010970329017163877,-0.014219890692392607,-0.1361104697369197,0.037933103866277434,-0.05468790090134969,-0.008750805966198259,-0.1374859609368535,0.0357341098647355,-0.05074655985142586,-0.09586248182696189,-0.05779331380658054,0.013762566643693927,0.015274096232105506,-0.1000267222764023,0.004891541283281268,0.05997946906074789,-0.007301983525060887],\"xaxis\":\"x\",\"y\":[-0.12230093083508907,-0.09299271465029124,-0.06610044928021848,-0.07378727403258689,0.16333247900256814,-0.1822240262816129,0.24595104688536037,-0.034937155331993285,-0.08631909540600474,0.16333247900256812,-0.10029829040548593,0.16333247900256806,-0.0970057624089382,-0.02682390829950427,-0.08172546268168411,-0.029804902773581998,-0.06063216970066935,-0.10595532707652956,-0.0970057624089382,0.002102295565730686,-0.07987607077457297,-0.09924353467949212,0.2125437185732314,0.19271152800510108,0.23613352503307453,-0.07021832889239993,-0.048993199428304775,-0.05161655447655731,-0.048993199428304775,0.20987724363430832,-0.023153815044729364,0.16333247900256806,0.16333247900256806,-0.04392448099788431,-0.14033102901467398,-0.11440172648132794,0.16333247900256806,-0.02071989576689027,-0.09779233744459831,-0.09889011676083408,0.16333247900256806,0.028125270867582743,-0.07262710337930052,-0.09557334923729323,-0.08574050966784684,-0.10564435273090521,-0.15147938754668636,-0.0970057624089382,-0.08957720197102446,-0.10959936135295428,0.0259996325291945,-0.011309008778615319,0.00226925514547362,-0.06724524406525562,-0.03346418091348955,-0.13485522464439406,-0.09052575939266079,-0.0975214369155831,0.16333247900256806,-0.12029131153273151,-0.10034525700699799,-0.004523799069123948,-0.0970057624089382,-0.09730270552995167,-0.07876928937314889,-0.043396484241172664,-0.08444466632254852,-0.0970057624089382,-0.10034525700699799,-0.07534092006616969,-0.017722517351545234,0.1397553478731071,-0.11250080230307866,-0.07151133612209098,-0.12772899339365987,0.16333247900256806,0.009921647490754349,0.03589159580072166,0.09256668093929134,-0.036487954124680276,-0.0668481258354992,0.01242285973448216,-0.13533988098178368,-0.001425105075156101,0.1422101843967631,-0.0931149399803731,-0.08570319471503011,0.050533735797890916,-0.06621114737182116,0.0697246192485465,-0.05432393135994114,-0.05433967346310111,-0.08810175537621037,0.08034659041227231,0.2489800868624186,-0.049738701423045706,0.1806981049606715,-0.06493242956327269,0.16967077683812382,0.07997477631645758,-0.11014772689928239,-0.07438452540126789,0.2800337399506032,0.07997477631645758,-0.07373112966365473,-0.07776866826966179,-0.05971575319227498,0.00034685454685622096,-0.06723969935416539,-0.06860689871806676,0.012354637179435224,0.07723961906014737,-0.02496951178270254,-0.13373670351321307,-0.0727509016154532,-0.056525654299607694,-0.041310741352956884,-0.0992999876196974,-0.09976361780666405,0.11865827607843821,0.029182445161612315,0.07504598883955431,0.008344150814616664,0.011065654830755103,-0.03745720699448866,-0.10564148188589138,-0.034550974733679754,-0.07237727603798183,0.0070296040749016925,0.004637057589066752,-0.14388093242079414,-0.015038862183361229,-0.04271712092994145,-0.03456558637533543,-0.10081444228888861,-0.08904073444768397,-0.06016855112740915,0.01741442501043899,-0.02515629840572031,-0.018112884617049303,-0.08771975468186524,0.08162773376449184,-0.11363268981177505,0.02288581362366017,-0.16173305720935116,-0.06439921063706408,-0.08080614367933542,-0.01870424742657639,0.035170692719277835,-0.05813554131545331,-0.027852151516475944,-0.02871160794825582,-0.10905878331908223,0.025668617420591462,0.1266917012267208,-0.08422889068690011,-0.03217866462375685,-0.021652803093009904,-0.0028878554518790593,-0.12784087955957857,0.00017230881629606452,-0.030303994348880876,-0.03860306779884304,-0.07771502849521565,0.012413192629945013,0.1179270173555632,-0.13387764442412178,-0.0888555147918572,-0.016700331784748466,-0.022272110719212337,-0.02769389103943566,0.01672365110677613,-0.04596795398614154,-0.14893386209621404,0.00469161478643177,-0.084580062944757,0.06955762292662142,0.17248383915797094,-0.08735024432263379,-0.05193540537767208,0.3293645955043019,0.006628807207480435,-0.12696517028262014,-0.01177326786706437,0.07058626087170079,0.29379422569195257,0.10776035714400835,0.4628143085742591,-0.12699230884108567,0.04078343235837731,-0.008386715644666585,0.0068948161545869715,-0.018601301934876892,0.20037026506188055,-0.03359591726345798,0.010617891546314106,-0.0463127190649078,-0.14407927790366695,-0.1220861547044896,-0.09033664713074016,0.08672575932057476,-0.03092464331989571,-0.11437060850178014,0.07997477631645758,-0.11037404295535803,0.07997477631645758,-0.0695996763859576,0.22936286630156774,0.011276763609039307,0.09514916214484515,0.003480628893777554,-0.07805984259489207,-0.07206374290983936,-0.06393397289238228,0.07997477631645758,0.27113265139881404,-0.013305232520939006,-0.052291386307141335,0.031431405252403934,0.1390481879377493,-0.03900280053172187,0.03505827023486931,0.032955603365152394,0.0362972281932681,0.03228580973571797,0.036553547511009976,0.03157088129285526,-0.040535990788995335,-0.02371868297568992,0.175226754084092,0.07997477631645758,-0.04033478540189052,-0.02885866447276177,-0.010269500498913224,-0.03143506095106033,-0.02373728964577013,-0.046673299633153226,0.028171344287309354,-0.02931580187086431,-0.08902986886236143,-0.07533400962667756,0.025397816276499424,0.04292684886588137,-0.11492777507259347,-0.08199811845556898,0.07030594768312286,-0.020387123958291977,-0.10487388651218849,-0.0589043963660736,0.025148781585039855,0.04369267398675088,-0.06411791502465157,0.10762483309813985,-0.02351059312438278,0.04369267398675088,-0.11471808177590831,0.010201436326752956,-0.0431809866196119,-0.08437828386310477,-0.02238014923965377,-0.046472292312635194,-0.0022409120043274857,-0.09889680871546663,-0.05170666571864388,-0.040919930660341414,0.04404278389151534,-0.11256186458380317,-0.03588956430804711,-0.01674312970240049,0.010806669471209354,-0.07260194235334212,-0.08668505606701508,-0.10369505788446631,-0.04960882549389052,-0.09511335252653398,0.27971160557200575,-0.07611585525140194,-0.04246835511902438,0.08729101226766872,-0.051919082951846024,-0.09408748761576072,0.5156400664726083,-0.0018300000961524638,-0.0955354481385588,-0.0010958806111070999,-0.05647041962962514,-0.01068023456221895,-0.05707756589152305,-0.10128729372625926,-0.022709238599053334,-0.09411651563608968,-0.08487850995120583,-0.07612363407310713,0.10131247118181909,-0.015047987904065066,0.0054558672668553075,-0.086523169833559,-0.06914064507876153,-0.019852809977160414,-0.13813478442589855,0.03491926492320049,-0.02261676205065389,-0.05134404633629853,0.1412066519830843,-0.03733312675176275,0.1629223711356506,0.045324249942962275,-0.10856204667263712,0.0786192864829915,0.06823931235603745,-0.07834132031802674,0.07335253898708367,-0.09055006161218704,0.5688360784461866,-0.10966085558681989,0.4604481236336432,-0.07611585525140194,-0.004820512880018202,-0.011764493528844552,0.010977575449595845,-0.008340850351731542,-0.10740877783313331,-0.07466797372872407,-0.03257827059421394,0.13778483933118227,0.3782287282620459,0.30020036922109117,0.016721420427216714,-0.03632340382235495,-0.08954134697892949,-0.0544021970439025,0.09643300224743379,-0.07866975681625123,-0.0352561791475281,0.06581024030707275,-0.021020411036256195,0.04369267398675088,0.5125614680213433,-0.03581277012921303,0.4325963545188237,-0.10163270925322072,0.20372353255615083,-0.02471078738799199,-0.11636539325401114,0.015614972387317414,-0.06946967071748854,-0.021629792160007984,-0.001402080135528943,-0.1116415189962909,-0.11136092823972524,-0.08357798933407787,-0.026706414051066114,0.03671150877474383,-0.05250975684636568,-0.059359532184291616,0.5220372446356,-0.00761625792676725,0.46742826156434447,0.28206645029316546,-0.03607303068715517,-0.04117904842124202,-0.003963009510130461,0.023971242904692033,-0.040580293219593035,0.04369267398675088,0.02537615360679859,-0.00041138771263555504,0.09027057640973293,-0.06988724740038715,0.46049782648513066,0.07728680103389622,-0.08497673116958433,-0.06776129650509156,-0.07378480959595939,-0.07041041282199882,0.27843237125748077,-0.10007783149467264,-0.0010317873761254257,-0.08093640066029609,-0.007290107822234826,-0.05923129706264221,-0.16842364390643075,-0.07059468240538383,-0.09849778427205551,0.07892296778997336,0.2446494544713469,-0.06036461910420867,0.22447876497956304,-0.04029956824335616,-0.11057222870916576,-0.03670590547599984,-0.05910229331651115,0.13002334627791864,-0.04857616408792628,-0.013753556456720368,0.04741099082833636,0.020851934736628497,-0.03179357111934182,-0.07054090379661611,-0.08965548631618392,0.008169554085815624,-0.02853439842167682,0.12009760075592858,0.29373109311419815,-0.010692845001855512,-0.0888386223774753,0.024253367093188254,-0.05012272551610905,-0.12376056010526217,-0.036740437894990034,-0.05990877273994241,-0.04183608133316745,0.038166928641793066,-0.0661820461287974,-0.043462177311625855,-0.03322625738924934,-0.06649168799274398,0.5388218608071246,-0.07359715694331219,-0.055258769811263896,0.023341431264042093,0.5608807708016307,-0.0682293753055847,-0.033071464756499774,0.03892023390106665,0.06115630070519662,-0.07792075889694376,-0.0608224915690515,0.0914341156663643,-0.12389349242322843,-0.04149600062671602,-0.08110770920012399],\"yaxis\":\"y\",\"type\":\"scatter\"}],                        {\"template\":{\"data\":{\"bar\":[{\"error_x\":{\"color\":\"#2a3f5f\"},\"error_y\":{\"color\":\"#2a3f5f\"},\"marker\":{\"line\":{\"color\":\"#E5ECF6\",\"width\":0.5},\"pattern\":{\"fillmode\":\"overlay\",\"size\":10,\"solidity\":0.2}},\"type\":\"bar\"}],\"barpolar\":[{\"marker\":{\"line\":{\"color\":\"#E5ECF6\",\"width\":0.5},\"pattern\":{\"fillmode\":\"overlay\",\"size\":10,\"solidity\":0.2}},\"type\":\"barpolar\"}],\"carpet\":[{\"aaxis\":{\"endlinecolor\":\"#2a3f5f\",\"gridcolor\":\"white\",\"linecolor\":\"white\",\"minorgridcolor\":\"white\",\"startlinecolor\":\"#2a3f5f\"},\"baxis\":{\"endlinecolor\":\"#2a3f5f\",\"gridcolor\":\"white\",\"linecolor\":\"white\",\"minorgridcolor\":\"white\",\"startlinecolor\":\"#2a3f5f\"},\"type\":\"carpet\"}],\"choropleth\":[{\"colorbar\":{\"outlinewidth\":0,\"ticks\":\"\"},\"type\":\"choropleth\"}],\"contour\":[{\"colorbar\":{\"outlinewidth\":0,\"ticks\":\"\"},\"colorscale\":[[0.0,\"#0d0887\"],[0.1111111111111111,\"#46039f\"],[0.2222222222222222,\"#7201a8\"],[0.3333333333333333,\"#9c179e\"],[0.4444444444444444,\"#bd3786\"],[0.5555555555555556,\"#d8576b\"],[0.6666666666666666,\"#ed7953\"],[0.7777777777777778,\"#fb9f3a\"],[0.8888888888888888,\"#fdca26\"],[1.0,\"#f0f921\"]],\"type\":\"contour\"}],\"contourcarpet\":[{\"colorbar\":{\"outlinewidth\":0,\"ticks\":\"\"},\"type\":\"contourcarpet\"}],\"heatmap\":[{\"colorbar\":{\"outlinewidth\":0,\"ticks\":\"\"},\"colorscale\":[[0.0,\"#0d0887\"],[0.1111111111111111,\"#46039f\"],[0.2222222222222222,\"#7201a8\"],[0.3333333333333333,\"#9c179e\"],[0.4444444444444444,\"#bd3786\"],[0.5555555555555556,\"#d8576b\"],[0.6666666666666666,\"#ed7953\"],[0.7777777777777778,\"#fb9f3a\"],[0.8888888888888888,\"#fdca26\"],[1.0,\"#f0f921\"]],\"type\":\"heatmap\"}],\"heatmapgl\":[{\"colorbar\":{\"outlinewidth\":0,\"ticks\":\"\"},\"colorscale\":[[0.0,\"#0d0887\"],[0.1111111111111111,\"#46039f\"],[0.2222222222222222,\"#7201a8\"],[0.3333333333333333,\"#9c179e\"],[0.4444444444444444,\"#bd3786\"],[0.5555555555555556,\"#d8576b\"],[0.6666666666666666,\"#ed7953\"],[0.7777777777777778,\"#fb9f3a\"],[0.8888888888888888,\"#fdca26\"],[1.0,\"#f0f921\"]],\"type\":\"heatmapgl\"}],\"histogram\":[{\"marker\":{\"pattern\":{\"fillmode\":\"overlay\",\"size\":10,\"solidity\":0.2}},\"type\":\"histogram\"}],\"histogram2d\":[{\"colorbar\":{\"outlinewidth\":0,\"ticks\":\"\"},\"colorscale\":[[0.0,\"#0d0887\"],[0.1111111111111111,\"#46039f\"],[0.2222222222222222,\"#7201a8\"],[0.3333333333333333,\"#9c179e\"],[0.4444444444444444,\"#bd3786\"],[0.5555555555555556,\"#d8576b\"],[0.6666666666666666,\"#ed7953\"],[0.7777777777777778,\"#fb9f3a\"],[0.8888888888888888,\"#fdca26\"],[1.0,\"#f0f921\"]],\"type\":\"histogram2d\"}],\"histogram2dcontour\":[{\"colorbar\":{\"outlinewidth\":0,\"ticks\":\"\"},\"colorscale\":[[0.0,\"#0d0887\"],[0.1111111111111111,\"#46039f\"],[0.2222222222222222,\"#7201a8\"],[0.3333333333333333,\"#9c179e\"],[0.4444444444444444,\"#bd3786\"],[0.5555555555555556,\"#d8576b\"],[0.6666666666666666,\"#ed7953\"],[0.7777777777777778,\"#fb9f3a\"],[0.8888888888888888,\"#fdca26\"],[1.0,\"#f0f921\"]],\"type\":\"histogram2dcontour\"}],\"mesh3d\":[{\"colorbar\":{\"outlinewidth\":0,\"ticks\":\"\"},\"type\":\"mesh3d\"}],\"parcoords\":[{\"line\":{\"colorbar\":{\"outlinewidth\":0,\"ticks\":\"\"}},\"type\":\"parcoords\"}],\"pie\":[{\"automargin\":true,\"type\":\"pie\"}],\"scatter\":[{\"marker\":{\"colorbar\":{\"outlinewidth\":0,\"ticks\":\"\"}},\"type\":\"scatter\"}],\"scatter3d\":[{\"line\":{\"colorbar\":{\"outlinewidth\":0,\"ticks\":\"\"}},\"marker\":{\"colorbar\":{\"outlinewidth\":0,\"ticks\":\"\"}},\"type\":\"scatter3d\"}],\"scattercarpet\":[{\"marker\":{\"colorbar\":{\"outlinewidth\":0,\"ticks\":\"\"}},\"type\":\"scattercarpet\"}],\"scattergeo\":[{\"marker\":{\"colorbar\":{\"outlinewidth\":0,\"ticks\":\"\"}},\"type\":\"scattergeo\"}],\"scattergl\":[{\"marker\":{\"colorbar\":{\"outlinewidth\":0,\"ticks\":\"\"}},\"type\":\"scattergl\"}],\"scattermapbox\":[{\"marker\":{\"colorbar\":{\"outlinewidth\":0,\"ticks\":\"\"}},\"type\":\"scattermapbox\"}],\"scatterpolar\":[{\"marker\":{\"colorbar\":{\"outlinewidth\":0,\"ticks\":\"\"}},\"type\":\"scatterpolar\"}],\"scatterpolargl\":[{\"marker\":{\"colorbar\":{\"outlinewidth\":0,\"ticks\":\"\"}},\"type\":\"scatterpolargl\"}],\"scatterternary\":[{\"marker\":{\"colorbar\":{\"outlinewidth\":0,\"ticks\":\"\"}},\"type\":\"scatterternary\"}],\"surface\":[{\"colorbar\":{\"outlinewidth\":0,\"ticks\":\"\"},\"colorscale\":[[0.0,\"#0d0887\"],[0.1111111111111111,\"#46039f\"],[0.2222222222222222,\"#7201a8\"],[0.3333333333333333,\"#9c179e\"],[0.4444444444444444,\"#bd3786\"],[0.5555555555555556,\"#d8576b\"],[0.6666666666666666,\"#ed7953\"],[0.7777777777777778,\"#fb9f3a\"],[0.8888888888888888,\"#fdca26\"],[1.0,\"#f0f921\"]],\"type\":\"surface\"}],\"table\":[{\"cells\":{\"fill\":{\"color\":\"#EBF0F8\"},\"line\":{\"color\":\"white\"}},\"header\":{\"fill\":{\"color\":\"#C8D4E3\"},\"line\":{\"color\":\"white\"}},\"type\":\"table\"}]},\"layout\":{\"annotationdefaults\":{\"arrowcolor\":\"#2a3f5f\",\"arrowhead\":0,\"arrowwidth\":1},\"autotypenumbers\":\"strict\",\"coloraxis\":{\"colorbar\":{\"outlinewidth\":0,\"ticks\":\"\"}},\"colorscale\":{\"diverging\":[[0,\"#8e0152\"],[0.1,\"#c51b7d\"],[0.2,\"#de77ae\"],[0.3,\"#f1b6da\"],[0.4,\"#fde0ef\"],[0.5,\"#f7f7f7\"],[0.6,\"#e6f5d0\"],[0.7,\"#b8e186\"],[0.8,\"#7fbc41\"],[0.9,\"#4d9221\"],[1,\"#276419\"]],\"sequential\":[[0.0,\"#0d0887\"],[0.1111111111111111,\"#46039f\"],[0.2222222222222222,\"#7201a8\"],[0.3333333333333333,\"#9c179e\"],[0.4444444444444444,\"#bd3786\"],[0.5555555555555556,\"#d8576b\"],[0.6666666666666666,\"#ed7953\"],[0.7777777777777778,\"#fb9f3a\"],[0.8888888888888888,\"#fdca26\"],[1.0,\"#f0f921\"]],\"sequentialminus\":[[0.0,\"#0d0887\"],[0.1111111111111111,\"#46039f\"],[0.2222222222222222,\"#7201a8\"],[0.3333333333333333,\"#9c179e\"],[0.4444444444444444,\"#bd3786\"],[0.5555555555555556,\"#d8576b\"],[0.6666666666666666,\"#ed7953\"],[0.7777777777777778,\"#fb9f3a\"],[0.8888888888888888,\"#fdca26\"],[1.0,\"#f0f921\"]]},\"colorway\":[\"#636efa\",\"#EF553B\",\"#00cc96\",\"#ab63fa\",\"#FFA15A\",\"#19d3f3\",\"#FF6692\",\"#B6E880\",\"#FF97FF\",\"#FECB52\"],\"font\":{\"color\":\"#2a3f5f\"},\"geo\":{\"bgcolor\":\"white\",\"lakecolor\":\"white\",\"landcolor\":\"#E5ECF6\",\"showlakes\":true,\"showland\":true,\"subunitcolor\":\"white\"},\"hoverlabel\":{\"align\":\"left\"},\"hovermode\":\"closest\",\"mapbox\":{\"style\":\"light\"},\"paper_bgcolor\":\"white\",\"plot_bgcolor\":\"#E5ECF6\",\"polar\":{\"angularaxis\":{\"gridcolor\":\"white\",\"linecolor\":\"white\",\"ticks\":\"\"},\"bgcolor\":\"#E5ECF6\",\"radialaxis\":{\"gridcolor\":\"white\",\"linecolor\":\"white\",\"ticks\":\"\"}},\"scene\":{\"xaxis\":{\"backgroundcolor\":\"#E5ECF6\",\"gridcolor\":\"white\",\"gridwidth\":2,\"linecolor\":\"white\",\"showbackground\":true,\"ticks\":\"\",\"zerolinecolor\":\"white\"},\"yaxis\":{\"backgroundcolor\":\"#E5ECF6\",\"gridcolor\":\"white\",\"gridwidth\":2,\"linecolor\":\"white\",\"showbackground\":true,\"ticks\":\"\",\"zerolinecolor\":\"white\"},\"zaxis\":{\"backgroundcolor\":\"#E5ECF6\",\"gridcolor\":\"white\",\"gridwidth\":2,\"linecolor\":\"white\",\"showbackground\":true,\"ticks\":\"\",\"zerolinecolor\":\"white\"}},\"shapedefaults\":{\"line\":{\"color\":\"#2a3f5f\"}},\"ternary\":{\"aaxis\":{\"gridcolor\":\"white\",\"linecolor\":\"white\",\"ticks\":\"\"},\"baxis\":{\"gridcolor\":\"white\",\"linecolor\":\"white\",\"ticks\":\"\"},\"bgcolor\":\"#E5ECF6\",\"caxis\":{\"gridcolor\":\"white\",\"linecolor\":\"white\",\"ticks\":\"\"}},\"title\":{\"x\":0.05},\"xaxis\":{\"automargin\":true,\"gridcolor\":\"white\",\"linecolor\":\"white\",\"ticks\":\"\",\"title\":{\"standoff\":15},\"zerolinecolor\":\"white\",\"zerolinewidth\":2},\"yaxis\":{\"automargin\":true,\"gridcolor\":\"white\",\"linecolor\":\"white\",\"ticks\":\"\",\"title\":{\"standoff\":15},\"zerolinecolor\":\"white\",\"zerolinewidth\":2}}},\"xaxis\":{\"anchor\":\"y\",\"domain\":[0.0,1.0],\"title\":{\"text\":\"x\"}},\"yaxis\":{\"anchor\":\"x\",\"domain\":[0.0,1.0],\"title\":{\"text\":\"y\"}},\"legend\":{\"tracegroupgap\":0},\"title\":{\"text\":\"PCA news\"}},                        {\"responsive\": true}                    ).then(function(){\n",
              "                            \n",
              "var gd = document.getElementById('ee1f91cf-a1ad-4ec6-ae99-ab34b1cd3fd1');\n",
              "var x = new MutationObserver(function (mutations, observer) {{\n",
              "        var display = window.getComputedStyle(gd).display;\n",
              "        if (!display || display === 'none') {{\n",
              "            console.log([gd, 'removed!']);\n",
              "            Plotly.purge(gd);\n",
              "            observer.disconnect();\n",
              "        }}\n",
              "}});\n",
              "\n",
              "// Listen for the removal of the full notebook cells\n",
              "var notebookContainer = gd.closest('#notebook-container');\n",
              "if (notebookContainer) {{\n",
              "    x.observe(notebookContainer, {childList: true});\n",
              "}}\n",
              "\n",
              "// Listen for the clearing of the current output cell\n",
              "var outputEl = gd.closest('.output');\n",
              "if (outputEl) {{\n",
              "    x.observe(outputEl, {childList: true});\n",
              "}}\n",
              "\n",
              "                        })                };                            </script>        </div>\n",
              "</body>\n",
              "</html>"
            ]
          },
          "metadata": {}
        }
      ],
      "source": [
        "###PCA\n",
        "import texthero as hero\n",
        "import pandas as pd\n",
        "\n",
        "df = pd.read_csv(\n",
        "   \"https://raw.githubusercontent.com/thesunsavior/Vietnamese-Fake-News-Generation/main/data.csv\"\n",
        ")\n",
        "\n",
        "df['pca'] = (\n",
        "   df['text']\n",
        "   .pipe(hero.tfidf)###vectorizing\n",
        "   .pipe(hero.pca)\n",
        ")\n",
        "hero.scatterplot(df, 'pca', title=\"PCA news\")"
      ]
    },
    {
      "cell_type": "code",
      "source": [
        "df['pca'] = (\n",
        "   df['text']\n",
        "   .pipe(hero.tfidf)###vectorizing\n",
        "   .pipe(hero.tsne)\n",
        ")\n",
        "hero.scatterplot(df, 'pca', title=\"PCA news\")"
      ],
      "metadata": {
        "colab": {
          "base_uri": "https://localhost:8080/",
          "height": 542
        },
        "id": "5nONUxOLi8SI",
        "outputId": "7afc6124-ebd5-44f1-c8a4-44fdeb8b1a65"
      },
      "id": "5nONUxOLi8SI",
      "execution_count": null,
      "outputs": [
        {
          "output_type": "display_data",
          "data": {
            "text/html": [
              "<html>\n",
              "<head><meta charset=\"utf-8\" /></head>\n",
              "<body>\n",
              "    <div>            <script src=\"https://cdnjs.cloudflare.com/ajax/libs/mathjax/2.7.5/MathJax.js?config=TeX-AMS-MML_SVG\"></script><script type=\"text/javascript\">if (window.MathJax) {MathJax.Hub.Config({SVG: {font: \"STIX-Web\"}});}</script>                <script type=\"text/javascript\">window.PlotlyConfig = {MathJaxConfig: 'local'};</script>\n",
              "        <script src=\"https://cdn.plot.ly/plotly-2.8.3.min.js\"></script>                <div id=\"0c6b2cec-87d3-4405-9168-5915069e30b1\" class=\"plotly-graph-div\" style=\"height:525px; width:100%;\"></div>            <script type=\"text/javascript\">                                    window.PLOTLYENV=window.PLOTLYENV || {};                                    if (document.getElementById(\"0c6b2cec-87d3-4405-9168-5915069e30b1\")) {                    Plotly.newPlot(                        \"0c6b2cec-87d3-4405-9168-5915069e30b1\",                        [{\"hovertemplate\":\"x=%{x}<br>y=%{y}<extra></extra>\",\"legendgroup\":\"\",\"marker\":{\"color\":\"#636efa\",\"symbol\":\"circle\"},\"mode\":\"markers\",\"name\":\"\",\"orientation\":\"v\",\"showlegend\":false,\"x\":[-12.236093521118164,-22.86351776123047,8.177922248840332,-14.478739738464355,34.457393646240234,9.460539817810059,-2.582066297531128,19.742738723754883,-13.749019622802734,34.93523025512695,4.646883010864258,34.1592903137207,28.169864654541016,10.809549331665039,6.636866569519043,-14.008484840393066,-17.46592140197754,-0.9181082844734192,27.664865493774414,11.980408668518066,18.628881454467773,14.200419425964355,-4.042745113372803,-0.7720724940299988,1.3901042938232422,3.257113456726074,13.77344036102295,12.022194862365723,13.768856048583984,-14.271886825561523,9.32793140411377,33.7946891784668,33.10013961791992,-11.40127944946289,13.888042449951172,-10.989473342895508,33.353328704833984,-7.650638103485107,21.265762329101562,-17.299894332885742,35.473419189453125,1.5776829719543457,9.715630531311035,-13.023536682128906,-9.015727996826172,-10.450724601745605,-10.039626121520996,26.938430786132812,-22.933670043945312,-12.181403160095215,7.007296085357666,-7.988730430603027,-5.528741359710693,-3.289562702178955,21.28398895263672,-10.803852081298828,15.767622947692871,-13.149284362792969,35.29417037963867,11.706449508666992,-18.82338523864746,1.5831692218780518,27.00535774230957,-3.7437024116516113,20.688350677490234,-5.1686177253723145,-9.702295303344727,27.766759872436523,-18.823566436767578,-17.581636428833008,-6.870479106903076,-13.083773612976074,-20.42749786376953,-19.2857666015625,-11.091530799865723,34.18977355957031,-4.901987552642822,-5.640765190124512,-5.784116744995117,-25.75103759765625,-14.95560073852539,3.8136539459228516,7.793012619018555,-22.022254943847656,-6.396697998046875,-17.74056625366211,-18.030336380004883,-4.962225437164307,-14.51973819732666,11.853142738342285,23.374984741210938,-13.912859916687012,-17.465755462646484,-11.481590270996094,4.710915565490723,-6.457207202911377,3.263601779937744,16.753353118896484,-11.64695930480957,-20.745498657226562,0.4899609386920929,6.9659857749938965,0.8552424311637878,-20.503828048706055,-3.3864336013793945,11.116920471191406,8.410090446472168,30.386445999145508,-21.706087112426758,-21.617366790771484,6.403542995452881,-3.7060976028442383,19.722482681274414,0.1718001663684845,8.825946807861328,5.1805596351623535,16.91061782836914,-20.287609100341797,13.311552047729492,2.428053379058838,18.82868766784668,5.440115928649902,16.32586669921875,-5.3445024490356445,-15.625130653381348,0.5214591026306152,-19.83198356628418,-24.311243057250977,-27.881162643432617,-26.427806854248047,-0.3607536256313324,5.6217474937438965,-9.063578605651855,28.242752075195312,18.740354537963867,12.147293090820312,-22.150468826293945,-26.89788246154785,0.9660954475402832,7.879696846008301,-2.806917190551758,-12.943601608276367,17.815053939819336,-11.864843368530273,0.053178854286670685,-22.165624618530273,10.407532691955566,19.52545928955078,-26.80963134765625,-12.187910079956055,-6.5399699211120605,-22.544692993164062,-6.6831889152526855,-7.751089096069336,-6.243994235992432,12.192400932312012,7.047406196594238,-8.949556350708008,-7.237845420837402,15.131671905517578,-8.469409942626953,-8.253644943237305,17.88166618347168,16.08197593688965,-25.81656265258789,-3.347018241882324,-0.10011783242225647,11.46270751953125,-8.842850685119629,10.581067085266113,-6.743847846984863,-27.546798706054688,2.379577398300171,0.6735482811927795,-8.067622184753418,2.2748324871063232,-2.711475133895874,4.184237003326416,-10.371870994567871,5.743269443511963,4.696450233459473,30.083391189575195,-17.303009033203125,-5.5461649894714355,-4.8776326179504395,-2.296550989151001,-5.246654033660889,-0.02470168098807335,2.473785877227783,-6.477883815765381,9.048700332641602,-6.035561561584473,17.817739486694336,-14.846479415893555,11.252840995788574,14.058013916015625,-10.251245498657227,17.834875106811523,9.849020004272461,12.004729270935059,-13.013315200805664,4.012697696685791,8.138954162597656,-21.5162353515625,4.538155555725098,-22.06000328063965,23.435197830200195,-4.8161940574646,-3.260974168777466,-6.457743167877197,-6.777483940124512,1.1646084785461426,-2.4003279209136963,-11.647804260253906,-21.04020881652832,5.236204147338867,-7.7260541915893555,-17.46470069885254,15.381819725036621,-5.998383045196533,22.266950607299805,-28.92403221130371,-29.628055572509766,-29.803266525268555,-28.71135902404785,-28.80677032470703,-8.111246109008789,6.149053573608398,6.086488723754883,-14.945014953613281,-21.81165885925293,-11.730520248413086,24.346923828125,27.587419509887695,6.199253082275391,-10.216049194335938,24.947999954223633,-0.06890951842069626,21.338293075561523,17.167936325073242,-23.197172164916992,-4.129240036010742,4.288449287414551,-19.463876724243164,-5.106914520263672,4.001237869262695,30.45299530029297,13.83310604095459,-6.518556118011475,-2.7288734912872314,22.084941864013672,18.598846435546875,-15.522923469543457,13.563997268676758,21.36406707763672,13.0126953125,-4.040194034576416,11.321413040161133,19.45184898376465,0.9277966618537903,-9.481416702270508,27.55267906188965,4.733786582946777,-13.562193870544434,9.56914234161377,-2.7370188236236572,-20.68889045715332,-21.694223403930664,-7.917449474334717,-15.950852394104004,-21.281944274902344,-17.430255889892578,6.963261604309082,-20.37150764465332,4.458966255187988,0.8370115756988525,23.013578414916992,20.238155364990234,-4.971314430236816,-14.794781684875488,3.120469808578491,3.1188323497772217,-6.870687007904053,-11.131044387817383,-22.008474349975586,-24.534788131713867,-6.8527398109436035,16.819669723510742,2.247274875640869,-0.9535012245178223,-0.7136152982711792,10.174964904785156,7.681875705718994,7.652932167053223,6.185797214508057,-4.041532516479492,-14.608524322509766,17.736495971679688,-1.868265151977539,-1.895954966545105,30.27559471130371,14.659111022949219,1.9510865211486816,-2.6983232498168945,-23.976476669311523,6.59947395324707,-24.60208511352539,-20.263784408569336,-3.777012825012207,-23.32152557373047,-14.88964557647705,-27.730594635009766,-2.694744348526001,2.130979061126709,12.225265502929688,2.416609525680542,23.013700485229492,-27.23688316345215,15.198504447937012,6.417026042938232,13.753055572509766,-9.274811744689941,1.6849048137664795,14.505515098571777,-5.971573352813721,3.9386911392211914,4.495387554168701,-11.915314674377441,-20.4969539642334,11.107218742370605,-19.115135192871094,1.4143978357315063,-19.719173431396484,-3.7732746601104736,-3.0866947174072266,-11.148412704467773,21.992401123046875,1.1288255453109741,-6.4470648765563965,-0.14607755839824677,-2.4560837745666504,0.1424795687198639,-8.76327133178711,11.813937187194824,-4.99043083190918,-26.633333206176758,23.21922492980957,-3.3226444721221924,4.2539591789245605,18.805089950561523,20.579299926757812,15.67377758026123,15.75927448272705,11.253540992736816,22.69936180114746,2.7995574474334717,5.49451208114624,0.23326650261878967,2.242933511734009,26.324989318847656,24.986183166503906,-10.968277931213379,-23.504993438720703,-9.90325927734375,21.271928787231445,5.251023769378662,-5.691542625427246,-19.075668334960938,-8.624107360839844,2.195960521697998,1.711323618888855,-14.934151649475098,-2.4842429161071777,-20.384571075439453,-13.076192855834961,3.05292010307312,-22.304813385009766,14.643850326538086,10.410603523254395,8.052070617675781,15.3405122756958,14.94262981414795,4.47059440612793,9.819896697998047,-4.836193561553955,5.205423355102539,23.436899185180664,-5.070642948150635,-7.3469624519348145,17.357290267944336,-21.55313491821289,1.225878119468689,-0.6703616380691528,4.2094407081604,-22.482446670532227,-5.6881022453308105,-27.454120635986328,25.59204864501953,-24.165584564208984,14.081024169921875,14.378414154052734,-1.1290903091430664,-0.5610092282295227,-0.09320464730262756,8.764287948608398,23.29360580444336,-25.765544891357422,68.0691909790039,-17.492721557617188,22.51400375366211,0.9324616193771362,-16.444616317749023,-8.231348991394043,6.799824237823486,51.98983383178711,-24.160795211791992,16.030017852783203,2.2799391746520996,16.639333724975586,-0.8953090310096741,-8.059221267700195,3.5288565158843994,17.646528244018555,7.496563911437988,4.299602031707764,6.618964672088623,23.93050765991211,-9.679274559020996,2.22542405128479,-13.805291175842285,24.908777236938477,14.821136474609375],\"xaxis\":\"x\",\"y\":[-2.139444589614868,5.387452125549316,25.529890060424805,16.678667068481445,-16.491329193115234,-7.119621276855469,14.8009672164917,-15.960016250610352,16.204998016357422,-17.920656204223633,-17.14498519897461,-17.199012756347656,-0.9347091913223267,6.757443428039551,-4.068240642547607,-16.30912208557129,-6.319891452789307,-9.233997344970703,-1.5322325229644775,17.073911666870117,-12.496216773986816,-8.078591346740723,-18.74617576599121,9.896607398986816,11.830850601196289,3.4740607738494873,23.789756774902344,17.008970260620117,23.789487838745117,6.929910659790039,8.622419357299805,-18.101442337036133,-17.195140838623047,24.51932716369629,-7.4959893226623535,1.6972147226333618,-16.198047637939453,6.498255729675293,-13.988908767700195,24.164594650268555,-17.041454315185547,-22.39487075805664,-4.820277214050293,-1.4375885725021362,22.502660751342773,23.852014541625977,0.5861600637435913,-1.2325012683868408,5.520373821258545,-0.39552614092826843,-21.97587776184082,16.10065269470215,23.713356018066406,-8.468330383300781,-14.35197639465332,-0.08958509564399719,-2.8525044918060303,-1.285591721534729,-15.966681480407715,-6.985060691833496,-18.43536949157715,-22.342092514038086,-0.44897955656051636,-11.508402824401855,-16.38465690612793,12.396734237670898,23.303138732910156,-0.26052406430244446,-18.448875427246094,17.291669845581055,16.994543075561523,-15.744945526123047,21.572505950927734,17.679298400878906,1.4679468870162964,-15.522420883178711,5.327667713165283,7.100171089172363,6.9934282302856445,16.78694725036621,-9.862181663513184,2.8568055629730225,-8.56068229675293,22.538860321044922,6.049717426300049,17.450305938720703,20.165746688842773,25.316438674926758,-1.646954894065857,6.931751728057861,-18.068754196166992,0.012539107352495193,12.232537269592285,-17.85051727294922,9.732769012451172,-6.219047546386719,10.796253204345703,-14.18806266784668,-15.807186126708984,-26.761560440063477,-0.9159538745880127,-9.318020820617676,19.485092163085938,-27.524436950683594,-3.2522075176239014,-11.633188247680664,-7.144428730010986,-11.779141426086426,19.521541595458984,10.6830415725708,7.031147003173828,6.972875118255615,-17.630054473876953,-7.123747825622559,2.340860366821289,-27.196569442749023,5.727792739868164,-1.227339506149292,-5.603137969970703,22.236858367919922,-19.847492218017578,6.320769786834717,-19.997323989868164,23.957212448120117,-10.306180953979492,-14.519378662109375,1.573419213294983,21.357080459594727,-9.906577110290527,-7.237017631530762,-7.641608715057373,4.179572582244873,12.860818862915039,-12.95395278930664,-2.8063228130340576,0.25077399611473083,-13.885719299316406,-6.151476860046387,-0.4077335596084595,0.5766352415084839,-10.67402172088623,-13.423075675964355,-3.7462568283081055,10.54481315612793,-7.767881870269775,-13.881681442260742,3.9633209705352783,-18.42266273498535,-7.144535064697266,-24.151233673095703,12.016382217407227,15.122137069702148,-1.6889402866363525,-23.87527847290039,-21.728525161743164,5.620954990386963,-22.007184982299805,15.733539581298828,13.090731620788574,-11.145201683044434,9.092571258544922,-6.131608486175537,-18.61402702331543,12.615822792053223,11.588208198547363,26.53428840637207,-9.236997604370117,-8.668843269348145,17.48615837097168,-6.279417037963867,18.338220596313477,15.678130149841309,-10.659394264221191,-14.097227096557617,-17.09632110595703,-10.082716941833496,5.880734920501709,23.580291748046875,-22.80841827392578,-0.6464623808860779,17.21942138671875,-15.751916885375977,22.458328247070312,1.23060142993927,-23.517763137817383,14.77735424041748,-23.0864200592041,16.782976150512695,-6.808913707733154,19.647497177124023,-15.046892166137695,16.240339279174805,-18.782712936401367,7.657114028930664,5.813069820404053,7.072299003601074,-22.930164337158203,-3.1690070629119873,-7.169602870941162,-1.8853086233139038,7.381316661834717,1.1265960931777954,-5.7508320808410645,-26.580608367919922,-17.22083854675293,-27.161712646484375,-12.791714668273926,-19.41128158569336,-2.3601255416870117,-20.443431854248047,18.68749237060547,-11.723363876342773,-14.087512969970703,-22.512287139892578,-28.111835479736328,10.929656028747559,18.021240234375,-6.3118791580200195,-18.62249183654785,-22.30559539794922,0.8865439295768738,-7.409056663513184,-5.900636672973633,-6.9382548332214355,-5.8689351081848145,-6.6241936683654785,-21.5462589263916,-12.783127784729004,-12.856796264648438,7.180624485015869,-27.91861343383789,-23.0062255859375,-19.384496688842773,-14.662891387939453,1.6075814962387085,5.294203758239746,-20.575151443481445,7.915579795837402,-20.017541885375977,-9.717265129089355,2.2067043781280518,-4.600713729858398,23.7115535736084,21.54436492919922,-8.849392890930176,13.219465255737305,-14.116756439208984,-3.3881301879882812,-6.193929672241211,26.488666534423828,16.614994049072266,-0.18389853835105896,8.357694625854492,-19.710739135742188,16.529266357421875,4.1940412521362305,27.37769889831543,-4.4304986000061035,-10.27161979675293,4.706875801086426,12.821460723876953,-14.830921173095703,5.001753330230713,23.69724464416504,-3.666027307510376,1.785312533378601,-0.26529040932655334,0.6934257745742798,-10.708756446838379,13.541510581970215,2.261476993560791,12.28469467163086,-2.698106288909912,2.263974905014038,-16.294734954833984,9.900754928588867,7.345908164978027,-8.236578941345215,1.4692890644073486,5.10814094543457,-9.05345630645752,16.28284454345703,25.726943969726562,22.302017211914062,19.337772369384766,22.342823028564453,4.633638858795166,-14.122758865356445,2.4682235717773438,2.182382583618164,-1.8648886680603027,-0.4195951223373413,-2.4650509357452393,18.760828018188477,5.081263065338135,23.999780654907227,19.748947143554688,-11.099093437194824,5.087690353393555,-7.349153995513916,-12.049304962158203,-20.733007431030273,-2.925874710083008,8.954414367675781,18.111661911010742,11.567483901977539,13.773112297058105,-1.2576125860214233,6.920264720916748,-6.988128662109375,4.180090427398682,-10.242403030395508,-10.601547241210938,17.821773529052734,0.34641748666763306,18.91427993774414,7.346063137054443,19.407936096191406,-20.947538375854492,7.025472164154053,-18.502431869506836,-1.887858271598816,-3.306061029434204,7.42289924621582,25.815902709960938,19.11526107788086,10.551212310791016,10.554593086242676,15.474498748779297,-11.586456298828125,7.419356346130371,9.256474494934082,19.054821014404297,-4.351830005645752,11.341465950012207,-5.908895969390869,17.335575103759766,17.500173568725586,12.329019546508789,15.889813423156738,-14.10948657989502,9.787752151489258,9.21985912322998,4.830223560333252,20.47495460510254,19.457773208618164,-17.640541076660156,0.7137502431869507,-2.491408348083496,-2.5250370502471924,-10.935035705566406,-0.7330012321472168,-17.22407341003418,11.220970153808594,-11.554112434387207,17.8909854888916,0.2538209557533264,15.61332893371582,13.850020408630371,-9.323297500610352,-16.885194778442383,-18.800514221191406,16.342134475708008,6.055586338043213,17.247873306274414,3.4933669567108154,27.980281829833984,2.758909225463867,-10.508620262145996,15.493114471435547,0.5360841155052185,19.846710205078125,-5.322942733764648,3.492309331893921,24.7496280670166,13.138344764709473,13.428434371948242,-19.599504470825195,3.966803789138794,19.097103118896484,-4.756049633026123,-3.7387847900390625,-6.57941198348999,-8.783355712890625,-21.265262603759766,14.814537048339844,-9.664728164672852,-18.746829986572266,3.8633618354797363,-11.373379707336426,15.42833137512207,-13.308733940124512,12.667444229125977,-4.041954517364502,15.124749183654785,8.714727401733398,15.706997871398926,-10.958259582519531,21.57134437561035,-2.2870376110076904,-19.098764419555664,2.175158739089966,19.028045654296875,13.666380882263184,14.234159469604492,-9.541555404663086,11.658724784851074,-30.84371566772461,22.407331466674805,-18.876619338989258,4.734570026397705,-11.236584663391113,-20.942651748657227,3.934389114379883,-64.43183898925781,-7.865772724151611,12.77795124053955,16.79588508605957,-6.249319076538086,-11.030458450317383,-17.05209732055664,17.041318893432617,4.115360260009766,-0.3063981831073761,0.5428375005722046,14.803563117980957,-13.219545364379883,-10.291680335998535,7.483063220977783,25.806602478027344,-9.543852806091309,1.77564537525177],\"yaxis\":\"y\",\"type\":\"scatter\"}],                        {\"template\":{\"data\":{\"bar\":[{\"error_x\":{\"color\":\"#2a3f5f\"},\"error_y\":{\"color\":\"#2a3f5f\"},\"marker\":{\"line\":{\"color\":\"#E5ECF6\",\"width\":0.5},\"pattern\":{\"fillmode\":\"overlay\",\"size\":10,\"solidity\":0.2}},\"type\":\"bar\"}],\"barpolar\":[{\"marker\":{\"line\":{\"color\":\"#E5ECF6\",\"width\":0.5},\"pattern\":{\"fillmode\":\"overlay\",\"size\":10,\"solidity\":0.2}},\"type\":\"barpolar\"}],\"carpet\":[{\"aaxis\":{\"endlinecolor\":\"#2a3f5f\",\"gridcolor\":\"white\",\"linecolor\":\"white\",\"minorgridcolor\":\"white\",\"startlinecolor\":\"#2a3f5f\"},\"baxis\":{\"endlinecolor\":\"#2a3f5f\",\"gridcolor\":\"white\",\"linecolor\":\"white\",\"minorgridcolor\":\"white\",\"startlinecolor\":\"#2a3f5f\"},\"type\":\"carpet\"}],\"choropleth\":[{\"colorbar\":{\"outlinewidth\":0,\"ticks\":\"\"},\"type\":\"choropleth\"}],\"contour\":[{\"colorbar\":{\"outlinewidth\":0,\"ticks\":\"\"},\"colorscale\":[[0.0,\"#0d0887\"],[0.1111111111111111,\"#46039f\"],[0.2222222222222222,\"#7201a8\"],[0.3333333333333333,\"#9c179e\"],[0.4444444444444444,\"#bd3786\"],[0.5555555555555556,\"#d8576b\"],[0.6666666666666666,\"#ed7953\"],[0.7777777777777778,\"#fb9f3a\"],[0.8888888888888888,\"#fdca26\"],[1.0,\"#f0f921\"]],\"type\":\"contour\"}],\"contourcarpet\":[{\"colorbar\":{\"outlinewidth\":0,\"ticks\":\"\"},\"type\":\"contourcarpet\"}],\"heatmap\":[{\"colorbar\":{\"outlinewidth\":0,\"ticks\":\"\"},\"colorscale\":[[0.0,\"#0d0887\"],[0.1111111111111111,\"#46039f\"],[0.2222222222222222,\"#7201a8\"],[0.3333333333333333,\"#9c179e\"],[0.4444444444444444,\"#bd3786\"],[0.5555555555555556,\"#d8576b\"],[0.6666666666666666,\"#ed7953\"],[0.7777777777777778,\"#fb9f3a\"],[0.8888888888888888,\"#fdca26\"],[1.0,\"#f0f921\"]],\"type\":\"heatmap\"}],\"heatmapgl\":[{\"colorbar\":{\"outlinewidth\":0,\"ticks\":\"\"},\"colorscale\":[[0.0,\"#0d0887\"],[0.1111111111111111,\"#46039f\"],[0.2222222222222222,\"#7201a8\"],[0.3333333333333333,\"#9c179e\"],[0.4444444444444444,\"#bd3786\"],[0.5555555555555556,\"#d8576b\"],[0.6666666666666666,\"#ed7953\"],[0.7777777777777778,\"#fb9f3a\"],[0.8888888888888888,\"#fdca26\"],[1.0,\"#f0f921\"]],\"type\":\"heatmapgl\"}],\"histogram\":[{\"marker\":{\"pattern\":{\"fillmode\":\"overlay\",\"size\":10,\"solidity\":0.2}},\"type\":\"histogram\"}],\"histogram2d\":[{\"colorbar\":{\"outlinewidth\":0,\"ticks\":\"\"},\"colorscale\":[[0.0,\"#0d0887\"],[0.1111111111111111,\"#46039f\"],[0.2222222222222222,\"#7201a8\"],[0.3333333333333333,\"#9c179e\"],[0.4444444444444444,\"#bd3786\"],[0.5555555555555556,\"#d8576b\"],[0.6666666666666666,\"#ed7953\"],[0.7777777777777778,\"#fb9f3a\"],[0.8888888888888888,\"#fdca26\"],[1.0,\"#f0f921\"]],\"type\":\"histogram2d\"}],\"histogram2dcontour\":[{\"colorbar\":{\"outlinewidth\":0,\"ticks\":\"\"},\"colorscale\":[[0.0,\"#0d0887\"],[0.1111111111111111,\"#46039f\"],[0.2222222222222222,\"#7201a8\"],[0.3333333333333333,\"#9c179e\"],[0.4444444444444444,\"#bd3786\"],[0.5555555555555556,\"#d8576b\"],[0.6666666666666666,\"#ed7953\"],[0.7777777777777778,\"#fb9f3a\"],[0.8888888888888888,\"#fdca26\"],[1.0,\"#f0f921\"]],\"type\":\"histogram2dcontour\"}],\"mesh3d\":[{\"colorbar\":{\"outlinewidth\":0,\"ticks\":\"\"},\"type\":\"mesh3d\"}],\"parcoords\":[{\"line\":{\"colorbar\":{\"outlinewidth\":0,\"ticks\":\"\"}},\"type\":\"parcoords\"}],\"pie\":[{\"automargin\":true,\"type\":\"pie\"}],\"scatter\":[{\"marker\":{\"colorbar\":{\"outlinewidth\":0,\"ticks\":\"\"}},\"type\":\"scatter\"}],\"scatter3d\":[{\"line\":{\"colorbar\":{\"outlinewidth\":0,\"ticks\":\"\"}},\"marker\":{\"colorbar\":{\"outlinewidth\":0,\"ticks\":\"\"}},\"type\":\"scatter3d\"}],\"scattercarpet\":[{\"marker\":{\"colorbar\":{\"outlinewidth\":0,\"ticks\":\"\"}},\"type\":\"scattercarpet\"}],\"scattergeo\":[{\"marker\":{\"colorbar\":{\"outlinewidth\":0,\"ticks\":\"\"}},\"type\":\"scattergeo\"}],\"scattergl\":[{\"marker\":{\"colorbar\":{\"outlinewidth\":0,\"ticks\":\"\"}},\"type\":\"scattergl\"}],\"scattermapbox\":[{\"marker\":{\"colorbar\":{\"outlinewidth\":0,\"ticks\":\"\"}},\"type\":\"scattermapbox\"}],\"scatterpolar\":[{\"marker\":{\"colorbar\":{\"outlinewidth\":0,\"ticks\":\"\"}},\"type\":\"scatterpolar\"}],\"scatterpolargl\":[{\"marker\":{\"colorbar\":{\"outlinewidth\":0,\"ticks\":\"\"}},\"type\":\"scatterpolargl\"}],\"scatterternary\":[{\"marker\":{\"colorbar\":{\"outlinewidth\":0,\"ticks\":\"\"}},\"type\":\"scatterternary\"}],\"surface\":[{\"colorbar\":{\"outlinewidth\":0,\"ticks\":\"\"},\"colorscale\":[[0.0,\"#0d0887\"],[0.1111111111111111,\"#46039f\"],[0.2222222222222222,\"#7201a8\"],[0.3333333333333333,\"#9c179e\"],[0.4444444444444444,\"#bd3786\"],[0.5555555555555556,\"#d8576b\"],[0.6666666666666666,\"#ed7953\"],[0.7777777777777778,\"#fb9f3a\"],[0.8888888888888888,\"#fdca26\"],[1.0,\"#f0f921\"]],\"type\":\"surface\"}],\"table\":[{\"cells\":{\"fill\":{\"color\":\"#EBF0F8\"},\"line\":{\"color\":\"white\"}},\"header\":{\"fill\":{\"color\":\"#C8D4E3\"},\"line\":{\"color\":\"white\"}},\"type\":\"table\"}]},\"layout\":{\"annotationdefaults\":{\"arrowcolor\":\"#2a3f5f\",\"arrowhead\":0,\"arrowwidth\":1},\"autotypenumbers\":\"strict\",\"coloraxis\":{\"colorbar\":{\"outlinewidth\":0,\"ticks\":\"\"}},\"colorscale\":{\"diverging\":[[0,\"#8e0152\"],[0.1,\"#c51b7d\"],[0.2,\"#de77ae\"],[0.3,\"#f1b6da\"],[0.4,\"#fde0ef\"],[0.5,\"#f7f7f7\"],[0.6,\"#e6f5d0\"],[0.7,\"#b8e186\"],[0.8,\"#7fbc41\"],[0.9,\"#4d9221\"],[1,\"#276419\"]],\"sequential\":[[0.0,\"#0d0887\"],[0.1111111111111111,\"#46039f\"],[0.2222222222222222,\"#7201a8\"],[0.3333333333333333,\"#9c179e\"],[0.4444444444444444,\"#bd3786\"],[0.5555555555555556,\"#d8576b\"],[0.6666666666666666,\"#ed7953\"],[0.7777777777777778,\"#fb9f3a\"],[0.8888888888888888,\"#fdca26\"],[1.0,\"#f0f921\"]],\"sequentialminus\":[[0.0,\"#0d0887\"],[0.1111111111111111,\"#46039f\"],[0.2222222222222222,\"#7201a8\"],[0.3333333333333333,\"#9c179e\"],[0.4444444444444444,\"#bd3786\"],[0.5555555555555556,\"#d8576b\"],[0.6666666666666666,\"#ed7953\"],[0.7777777777777778,\"#fb9f3a\"],[0.8888888888888888,\"#fdca26\"],[1.0,\"#f0f921\"]]},\"colorway\":[\"#636efa\",\"#EF553B\",\"#00cc96\",\"#ab63fa\",\"#FFA15A\",\"#19d3f3\",\"#FF6692\",\"#B6E880\",\"#FF97FF\",\"#FECB52\"],\"font\":{\"color\":\"#2a3f5f\"},\"geo\":{\"bgcolor\":\"white\",\"lakecolor\":\"white\",\"landcolor\":\"#E5ECF6\",\"showlakes\":true,\"showland\":true,\"subunitcolor\":\"white\"},\"hoverlabel\":{\"align\":\"left\"},\"hovermode\":\"closest\",\"mapbox\":{\"style\":\"light\"},\"paper_bgcolor\":\"white\",\"plot_bgcolor\":\"#E5ECF6\",\"polar\":{\"angularaxis\":{\"gridcolor\":\"white\",\"linecolor\":\"white\",\"ticks\":\"\"},\"bgcolor\":\"#E5ECF6\",\"radialaxis\":{\"gridcolor\":\"white\",\"linecolor\":\"white\",\"ticks\":\"\"}},\"scene\":{\"xaxis\":{\"backgroundcolor\":\"#E5ECF6\",\"gridcolor\":\"white\",\"gridwidth\":2,\"linecolor\":\"white\",\"showbackground\":true,\"ticks\":\"\",\"zerolinecolor\":\"white\"},\"yaxis\":{\"backgroundcolor\":\"#E5ECF6\",\"gridcolor\":\"white\",\"gridwidth\":2,\"linecolor\":\"white\",\"showbackground\":true,\"ticks\":\"\",\"zerolinecolor\":\"white\"},\"zaxis\":{\"backgroundcolor\":\"#E5ECF6\",\"gridcolor\":\"white\",\"gridwidth\":2,\"linecolor\":\"white\",\"showbackground\":true,\"ticks\":\"\",\"zerolinecolor\":\"white\"}},\"shapedefaults\":{\"line\":{\"color\":\"#2a3f5f\"}},\"ternary\":{\"aaxis\":{\"gridcolor\":\"white\",\"linecolor\":\"white\",\"ticks\":\"\"},\"baxis\":{\"gridcolor\":\"white\",\"linecolor\":\"white\",\"ticks\":\"\"},\"bgcolor\":\"#E5ECF6\",\"caxis\":{\"gridcolor\":\"white\",\"linecolor\":\"white\",\"ticks\":\"\"}},\"title\":{\"x\":0.05},\"xaxis\":{\"automargin\":true,\"gridcolor\":\"white\",\"linecolor\":\"white\",\"ticks\":\"\",\"title\":{\"standoff\":15},\"zerolinecolor\":\"white\",\"zerolinewidth\":2},\"yaxis\":{\"automargin\":true,\"gridcolor\":\"white\",\"linecolor\":\"white\",\"ticks\":\"\",\"title\":{\"standoff\":15},\"zerolinecolor\":\"white\",\"zerolinewidth\":2}}},\"xaxis\":{\"anchor\":\"y\",\"domain\":[0.0,1.0],\"title\":{\"text\":\"x\"}},\"yaxis\":{\"anchor\":\"x\",\"domain\":[0.0,1.0],\"title\":{\"text\":\"y\"}},\"legend\":{\"tracegroupgap\":0},\"title\":{\"text\":\"PCA news\"}},                        {\"responsive\": true}                    ).then(function(){\n",
              "                            \n",
              "var gd = document.getElementById('0c6b2cec-87d3-4405-9168-5915069e30b1');\n",
              "var x = new MutationObserver(function (mutations, observer) {{\n",
              "        var display = window.getComputedStyle(gd).display;\n",
              "        if (!display || display === 'none') {{\n",
              "            console.log([gd, 'removed!']);\n",
              "            Plotly.purge(gd);\n",
              "            observer.disconnect();\n",
              "        }}\n",
              "}});\n",
              "\n",
              "// Listen for the removal of the full notebook cells\n",
              "var notebookContainer = gd.closest('#notebook-container');\n",
              "if (notebookContainer) {{\n",
              "    x.observe(notebookContainer, {childList: true});\n",
              "}}\n",
              "\n",
              "// Listen for the clearing of the current output cell\n",
              "var outputEl = gd.closest('.output');\n",
              "if (outputEl) {{\n",
              "    x.observe(outputEl, {childList: true});\n",
              "}}\n",
              "\n",
              "                        })                };                            </script>        </div>\n",
              "</body>\n",
              "</html>"
            ]
          },
          "metadata": {}
        }
      ]
    },
    {
      "cell_type": "code",
      "source": [
        "# pip install transformers[sentencepiece]"
      ],
      "metadata": {
        "colab": {
          "base_uri": "https://localhost:8080/"
        },
        "id": "TvB-ObKiT2aF",
        "outputId": "4f1c881d-c2b3-4673-f34f-476502812604"
      },
      "id": "TvB-ObKiT2aF",
      "execution_count": null,
      "outputs": [
        {
          "output_type": "stream",
          "name": "stdout",
          "text": [
            "Looking in indexes: https://pypi.org/simple, https://us-python.pkg.dev/colab-wheels/public/simple/\n",
            "Requirement already satisfied: transformers[sentencepiece] in /usr/local/lib/python3.8/dist-packages (4.26.1)\n",
            "Requirement already satisfied: tokenizers!=0.11.3,<0.14,>=0.11.1 in /usr/local/lib/python3.8/dist-packages (from transformers[sentencepiece]) (0.13.2)\n",
            "Requirement already satisfied: regex!=2019.12.17 in /usr/local/lib/python3.8/dist-packages (from transformers[sentencepiece]) (2022.6.2)\n",
            "Requirement already satisfied: packaging>=20.0 in /usr/local/lib/python3.8/dist-packages (from transformers[sentencepiece]) (23.0)\n",
            "Requirement already satisfied: pyyaml>=5.1 in /usr/local/lib/python3.8/dist-packages (from transformers[sentencepiece]) (6.0)\n",
            "Requirement already satisfied: huggingface-hub<1.0,>=0.11.0 in /usr/local/lib/python3.8/dist-packages (from transformers[sentencepiece]) (0.12.0)\n",
            "Requirement already satisfied: filelock in /usr/local/lib/python3.8/dist-packages (from transformers[sentencepiece]) (3.9.0)\n",
            "Requirement already satisfied: requests in /usr/local/lib/python3.8/dist-packages (from transformers[sentencepiece]) (2.25.1)\n",
            "Requirement already satisfied: numpy>=1.17 in /usr/local/lib/python3.8/dist-packages (from transformers[sentencepiece]) (1.21.6)\n",
            "Requirement already satisfied: tqdm>=4.27 in /usr/local/lib/python3.8/dist-packages (from transformers[sentencepiece]) (4.64.1)\n",
            "Requirement already satisfied: protobuf<=3.20.2 in /usr/local/lib/python3.8/dist-packages (from transformers[sentencepiece]) (3.19.6)\n",
            "Requirement already satisfied: sentencepiece!=0.1.92,>=0.1.91 in /usr/local/lib/python3.8/dist-packages (from transformers[sentencepiece]) (0.1.97)\n",
            "Requirement already satisfied: typing-extensions>=3.7.4.3 in /usr/local/lib/python3.8/dist-packages (from huggingface-hub<1.0,>=0.11.0->transformers[sentencepiece]) (4.4.0)\n",
            "Requirement already satisfied: idna<3,>=2.5 in /usr/local/lib/python3.8/dist-packages (from requests->transformers[sentencepiece]) (2.10)\n",
            "Requirement already satisfied: urllib3<1.27,>=1.21.1 in /usr/local/lib/python3.8/dist-packages (from requests->transformers[sentencepiece]) (1.24.3)\n",
            "Requirement already satisfied: certifi>=2017.4.17 in /usr/local/lib/python3.8/dist-packages (from requests->transformers[sentencepiece]) (2022.12.7)\n",
            "Requirement already satisfied: chardet<5,>=3.0.2 in /usr/local/lib/python3.8/dist-packages (from requests->transformers[sentencepiece]) (4.0.0)\n"
          ]
        }
      ]
    },
    {
      "cell_type": "code",
      "execution_count": null,
      "id": "spiritual-doctor",
      "metadata": {
        "id": "spiritual-doctor",
        "colab": {
          "base_uri": "https://localhost:8080/",
          "height": 206
        },
        "outputId": "6886366a-68bd-4bcf-884e-c3618e6ab348"
      },
      "outputs": [
        {
          "output_type": "execute_result",
          "data": {
            "text/plain": [
              "                                                text  \\\n",
              "0   Theo Sky News  trong video nhân viên cứu hộ b...   \n",
              "1   Vật thể bay thứ 4 bị bắn hạ trên không phận H...   \n",
              "2   Ghi nhận của PV VietNamNet những ngày này  ng...   \n",
              "3   Duy trì việc đảm bảo an toàn giao thông sau d...   \n",
              "4   Sau một chút chững lại  MU tiếp tục thi đấu ấ...   \n",
              "\n",
              "                                            pca  \n",
              "0  [-0.03146625848518399, -0.10256711988459334]  \n",
              "1  [-0.03606900530071472, -0.09662604526909242]  \n",
              "2  [-0.04811979426719439, -0.09439816676828591]  \n",
              "3    [-0.05440952687360622, -0.078861870216976]  \n",
              "4    [0.9399957946708094, 0.058908962613200944]  "
            ],
            "text/html": [
              "\n",
              "  <div id=\"df-6cb46a5d-94e2-46f9-9054-54f079d7b3eb\">\n",
              "    <div class=\"colab-df-container\">\n",
              "      <div>\n",
              "<style scoped>\n",
              "    .dataframe tbody tr th:only-of-type {\n",
              "        vertical-align: middle;\n",
              "    }\n",
              "\n",
              "    .dataframe tbody tr th {\n",
              "        vertical-align: top;\n",
              "    }\n",
              "\n",
              "    .dataframe thead th {\n",
              "        text-align: right;\n",
              "    }\n",
              "</style>\n",
              "<table border=\"1\" class=\"dataframe\">\n",
              "  <thead>\n",
              "    <tr style=\"text-align: right;\">\n",
              "      <th></th>\n",
              "      <th>text</th>\n",
              "      <th>pca</th>\n",
              "    </tr>\n",
              "  </thead>\n",
              "  <tbody>\n",
              "    <tr>\n",
              "      <th>0</th>\n",
              "      <td>Theo Sky News  trong video nhân viên cứu hộ b...</td>\n",
              "      <td>[-0.03146625848518399, -0.10256711988459334]</td>\n",
              "    </tr>\n",
              "    <tr>\n",
              "      <th>1</th>\n",
              "      <td>Vật thể bay thứ 4 bị bắn hạ trên không phận H...</td>\n",
              "      <td>[-0.03606900530071472, -0.09662604526909242]</td>\n",
              "    </tr>\n",
              "    <tr>\n",
              "      <th>2</th>\n",
              "      <td>Ghi nhận của PV VietNamNet những ngày này  ng...</td>\n",
              "      <td>[-0.04811979426719439, -0.09439816676828591]</td>\n",
              "    </tr>\n",
              "    <tr>\n",
              "      <th>3</th>\n",
              "      <td>Duy trì việc đảm bảo an toàn giao thông sau d...</td>\n",
              "      <td>[-0.05440952687360622, -0.078861870216976]</td>\n",
              "    </tr>\n",
              "    <tr>\n",
              "      <th>4</th>\n",
              "      <td>Sau một chút chững lại  MU tiếp tục thi đấu ấ...</td>\n",
              "      <td>[0.9399957946708094, 0.058908962613200944]</td>\n",
              "    </tr>\n",
              "  </tbody>\n",
              "</table>\n",
              "</div>\n",
              "      <button class=\"colab-df-convert\" onclick=\"convertToInteractive('df-6cb46a5d-94e2-46f9-9054-54f079d7b3eb')\"\n",
              "              title=\"Convert this dataframe to an interactive table.\"\n",
              "              style=\"display:none;\">\n",
              "        \n",
              "  <svg xmlns=\"http://www.w3.org/2000/svg\" height=\"24px\"viewBox=\"0 0 24 24\"\n",
              "       width=\"24px\">\n",
              "    <path d=\"M0 0h24v24H0V0z\" fill=\"none\"/>\n",
              "    <path d=\"M18.56 5.44l.94 2.06.94-2.06 2.06-.94-2.06-.94-.94-2.06-.94 2.06-2.06.94zm-11 1L8.5 8.5l.94-2.06 2.06-.94-2.06-.94L8.5 2.5l-.94 2.06-2.06.94zm10 10l.94 2.06.94-2.06 2.06-.94-2.06-.94-.94-2.06-.94 2.06-2.06.94z\"/><path d=\"M17.41 7.96l-1.37-1.37c-.4-.4-.92-.59-1.43-.59-.52 0-1.04.2-1.43.59L10.3 9.45l-7.72 7.72c-.78.78-.78 2.05 0 2.83L4 21.41c.39.39.9.59 1.41.59.51 0 1.02-.2 1.41-.59l7.78-7.78 2.81-2.81c.8-.78.8-2.07 0-2.86zM5.41 20L4 18.59l7.72-7.72 1.47 1.35L5.41 20z\"/>\n",
              "  </svg>\n",
              "      </button>\n",
              "      \n",
              "  <style>\n",
              "    .colab-df-container {\n",
              "      display:flex;\n",
              "      flex-wrap:wrap;\n",
              "      gap: 12px;\n",
              "    }\n",
              "\n",
              "    .colab-df-convert {\n",
              "      background-color: #E8F0FE;\n",
              "      border: none;\n",
              "      border-radius: 50%;\n",
              "      cursor: pointer;\n",
              "      display: none;\n",
              "      fill: #1967D2;\n",
              "      height: 32px;\n",
              "      padding: 0 0 0 0;\n",
              "      width: 32px;\n",
              "    }\n",
              "\n",
              "    .colab-df-convert:hover {\n",
              "      background-color: #E2EBFA;\n",
              "      box-shadow: 0px 1px 2px rgba(60, 64, 67, 0.3), 0px 1px 3px 1px rgba(60, 64, 67, 0.15);\n",
              "      fill: #174EA6;\n",
              "    }\n",
              "\n",
              "    [theme=dark] .colab-df-convert {\n",
              "      background-color: #3B4455;\n",
              "      fill: #D2E3FC;\n",
              "    }\n",
              "\n",
              "    [theme=dark] .colab-df-convert:hover {\n",
              "      background-color: #434B5C;\n",
              "      box-shadow: 0px 1px 3px 1px rgba(0, 0, 0, 0.15);\n",
              "      filter: drop-shadow(0px 1px 2px rgba(0, 0, 0, 0.3));\n",
              "      fill: #FFFFFF;\n",
              "    }\n",
              "  </style>\n",
              "\n",
              "      <script>\n",
              "        const buttonEl =\n",
              "          document.querySelector('#df-6cb46a5d-94e2-46f9-9054-54f079d7b3eb button.colab-df-convert');\n",
              "        buttonEl.style.display =\n",
              "          google.colab.kernel.accessAllowed ? 'block' : 'none';\n",
              "\n",
              "        async function convertToInteractive(key) {\n",
              "          const element = document.querySelector('#df-6cb46a5d-94e2-46f9-9054-54f079d7b3eb');\n",
              "          const dataTable =\n",
              "            await google.colab.kernel.invokeFunction('convertToInteractive',\n",
              "                                                     [key], {});\n",
              "          if (!dataTable) return;\n",
              "\n",
              "          const docLinkHtml = 'Like what you see? Visit the ' +\n",
              "            '<a target=\"_blank\" href=https://colab.research.google.com/notebooks/data_table.ipynb>data table notebook</a>'\n",
              "            + ' to learn more about interactive tables.';\n",
              "          element.innerHTML = '';\n",
              "          dataTable['output_type'] = 'display_data';\n",
              "          await google.colab.output.renderOutput(dataTable, element);\n",
              "          const docLink = document.createElement('div');\n",
              "          docLink.innerHTML = docLinkHtml;\n",
              "          element.appendChild(docLink);\n",
              "        }\n",
              "      </script>\n",
              "    </div>\n",
              "  </div>\n",
              "  "
            ]
          },
          "metadata": {},
          "execution_count": 45
        }
      ],
      "source": [
        "df.head()"
      ]
    },
    {
      "cell_type": "code",
      "source": [
        "%pip install scikit-learn==0.22.0"
      ],
      "metadata": {
        "colab": {
          "base_uri": "https://localhost:8080/"
        },
        "id": "SlsgFBbXfV-s",
        "outputId": "1748cff1-5873-46ff-c831-d8ad5c8b7231"
      },
      "id": "SlsgFBbXfV-s",
      "execution_count": null,
      "outputs": [
        {
          "output_type": "stream",
          "name": "stdout",
          "text": [
            "Looking in indexes: https://pypi.org/simple, https://us-python.pkg.dev/colab-wheels/public/simple/\n",
            "Requirement already satisfied: scikit-learn==0.22.0 in /usr/local/lib/python3.8/dist-packages (0.22)\n",
            "Requirement already satisfied: joblib>=0.11 in /usr/local/lib/python3.8/dist-packages (from scikit-learn==0.22.0) (1.2.0)\n",
            "Requirement already satisfied: scipy>=0.17.0 in /usr/local/lib/python3.8/dist-packages (from scikit-learn==0.22.0) (1.7.3)\n",
            "Requirement already satisfied: numpy>=1.11.0 in /usr/local/lib/python3.8/dist-packages (from scikit-learn==0.22.0) (1.21.6)\n"
          ]
        }
      ]
    },
    {
      "cell_type": "code",
      "execution_count": null,
      "id": "talented-console",
      "metadata": {
        "id": "talented-console",
        "colab": {
          "base_uri": "https://localhost:8080/",
          "height": 542
        },
        "outputId": "1e5c81a0-b7e2-449a-b686-6c7d40b65e14"
      },
      "outputs": [
        {
          "output_type": "display_data",
          "data": {
            "text/html": [
              "<html>\n",
              "<head><meta charset=\"utf-8\" /></head>\n",
              "<body>\n",
              "    <div>            <script src=\"https://cdnjs.cloudflare.com/ajax/libs/mathjax/2.7.5/MathJax.js?config=TeX-AMS-MML_SVG\"></script><script type=\"text/javascript\">if (window.MathJax) {MathJax.Hub.Config({SVG: {font: \"STIX-Web\"}});}</script>                <script type=\"text/javascript\">window.PlotlyConfig = {MathJaxConfig: 'local'};</script>\n",
              "        <script src=\"https://cdn.plot.ly/plotly-2.8.3.min.js\"></script>                <div id=\"d51dfa1a-2b7c-47a7-9f9d-f45219aa86a2\" class=\"plotly-graph-div\" style=\"height:525px; width:100%;\"></div>            <script type=\"text/javascript\">                                    window.PLOTLYENV=window.PLOTLYENV || {};                                    if (document.getElementById(\"d51dfa1a-2b7c-47a7-9f9d-f45219aa86a2\")) {                    Plotly.newPlot(                        \"d51dfa1a-2b7c-47a7-9f9d-f45219aa86a2\",                        [{\"hovertemplate\":\"kmeans_labels=0<br>x=%{x}<br>y=%{y}<extra></extra>\",\"legendgroup\":\"0\",\"marker\":{\"color\":\"#636efa\",\"symbol\":\"circle\"},\"mode\":\"markers\",\"name\":\"0\",\"orientation\":\"v\",\"showlegend\":true,\"x\":[-19.218969345092773,-9.538415908813477,-12.095760345458984,-22.698217391967773,-9.443192481994629,-10.87789249420166,-17.171056747436523,-17.171056747436523,-4.4065985679626465,-16.505868911743164,-14.835284233093262,-11.89834976196289,-13.421253204345703,-8.792986869812012,-21.669902801513672,-13.180496215820312,-21.667722702026367,-17.785085678100586,-13.900577545166016,-23.14436149597168,-9.510459899902344,-12.95521354675293,-12.273801803588867,-7.3212809562683105,-4.843460559844971,-14.199066162109375,-14.121312141418457,-12.73930835723877,-12.123745918273926,-11.715210914611816,-10.67995548248291,-3.9846184253692627,-14.873504638671875,-8.83913803100586,-4.380776405334473,-11.840991973876953,-13.406024932861328,-11.196576118469238,-10.927215576171875,-11.739920616149902,-9.554006576538086,-7.2967329025268555,-17.932598114013672,-7.164813041687012,-23.88216209411621,-8.58493423461914],\"xaxis\":\"x\",\"y\":[-6.870571136474609,-25.19228744506836,-14.111401557922363,-15.617825508117676,-25.331697463989258,-6.8074421882629395,-11.727204322814941,-11.727202415466309,-11.939061164855957,-6.711987495422363,-24.60529136657715,-23.21757698059082,-9.497564315795898,-10.49532413482666,-20.8109073638916,-8.081703186035156,-20.810321807861328,-16.05735206604004,-4.672656059265137,-10.69043254852295,-18.43523406982422,-8.585684776306152,-14.523870468139648,-13.774309158325195,-9.793328285217285,-23.72544288635254,-22.392723083496094,-21.121049880981445,-22.1292781829834,-13.504698753356934,-19.17845916748047,-10.33899211883545,-24.652189254760742,-10.729927062988281,-11.854113578796387,-18.266159057617188,-9.74207878112793,-20.138952255249023,-21.748991012573242,-5.251256465911865,-7.225919246673584,-13.895758628845215,-16.187118530273438,-22.315505981445312,-10.318689346313477,-9.045860290527344],\"yaxis\":\"y\",\"type\":\"scatter\"},{\"hovertemplate\":\"kmeans_labels=2<br>x=%{x}<br>y=%{y}<extra></extra>\",\"legendgroup\":\"2\",\"marker\":{\"color\":\"#EF553B\",\"symbol\":\"circle\"},\"mode\":\"markers\",\"name\":\"2\",\"orientation\":\"v\",\"showlegend\":true,\"x\":[-4.4856462478637695,-9.064157485961914,4.760463714599609,-6.339235305786133,-10.254162788391113,-2.0146408081054688,-4.6577253341674805,-11.292661666870117,1.0853431224822998,-6.874582290649414,6.7136335372924805,-11.184481620788574,6.495548248291016,2.4284873008728027,4.4953083992004395,4.399588584899902,-6.434632301330566,-3.535017967224121,-8.727404594421387,5.280270099639893,-8.403444290161133,-10.21091079711914,-7.715777397155762,-7.4602251052856445,2.687523365020752,-9.824216842651367,-4.049283504486084,2.5379741191864014,-5.4407148361206055,-5.705504894256592,0.48478424549102783,-11.057892799377441,-6.925278663635254,-10.78880500793457,-10.558084487915039,3.954235792160034,-5.8877787590026855,-0.9228715300559998,-5.633512020111084,-9.951857566833496,1.1396137475967407,-0.8065667152404785,-4.686631202697754,-3.3776721954345703,-4.993368625640869,-6.926351547241211,-6.334282875061035,-9.333725929260254,-8.146072387695312,-7.9105000495910645,-7.8719401359558105,-6.918291091918945,0.6743162274360657,-1.5817441940307617,-3.007587432861328,-12.39405632019043,-8.487262725830078,2.7568697929382324,-1.9029299020767212,-3.8494207859039307,-4.469188213348389,2.989988088607788,-3.143521308898926,-7.285057544708252,-4.715221881866455,3.711003065109253,-1.5395523309707642,4.520552158355713,2.822833299636841,-0.7180428504943848,-7.6956257820129395,-12.5896635055542,4.928575038909912,4.704494953155518,-10.135009765625,0.2472265660762787,1.1977826356887817,-1.8675551414489746,-2.8162713050842285,-3.5356967449188232,-9.667606353759766,-10.116291046142578,-9.52409839630127,-4.221145153045654,-2.9369757175445557,2.793518304824829,2.079848289489746,-5.549047470092773,-2.908191680908203,-0.39278867840766907,0.21331621706485748,-8.78585433959961,-0.3008074462413788,1.287089467048645,-2.470778465270996,-2.6944186687469482],\"xaxis\":\"x\",\"y\":[6.987199306488037,-0.8157228231430054,-3.606132745742798,1.961086392402649,8.543763160705566,10.851961135864258,-6.393380165100098,0.5349540710449219,4.039366722106934,-2.1971771717071533,-2.0810141563415527,-0.36420366168022156,1.049501895904541,0.5123801231384277,2.5581836700439453,2.867300271987915,3.656287431716919,-7.9284281730651855,-1.616737723350525,3.08573842048645,0.7207395434379578,6.106646537780762,-4.40006685256958,-0.8816516995429993,2.3451011180877686,3.638176679611206,-5.5221123695373535,-5.802247047424316,9.781468391418457,11.264113426208496,-4.960163593292236,2.1409313678741455,1.0843786001205444,-1.9512298107147217,0.6007441282272339,1.0606648921966553,5.98167085647583,-3.445277452468872,6.225862979888916,-0.8497775793075562,-0.42496415972709656,-4.584236145019531,0.5144335627555847,10.837176322937012,11.871522903442383,7.4218902587890625,11.637792587280273,5.775003910064697,9.653828620910645,4.498751163482666,4.263287544250488,7.081671237945557,-6.638278007507324,-5.578066825866699,4.563351154327393,-2.9756321907043457,-5.945024013519287,-1.7003017663955688,3.0709846019744873,-3.4956214427948,0.08692346513271332,4.1027326583862305,2.6094939708709717,-7.193302154541016,-1.137919545173645,-4.181521892547607,0.7179661393165588,6.914966106414795,2.199721574783325,1.0685733556747437,-4.141378402709961,-1.1072601079940796,-0.5386660695075989,4.907815933227539,-4.832223415374756,-3.942845106124878,1.662803292274475,-8.164624214172363,-2.4000790119171143,-5.052881717681885,11.250774383544922,-5.643531799316406,-2.8201982975006104,9.982078552246094,11.10455322265625,4.879726409912109,7.576111316680908,-3.226140022277832,2.265399932861328,7.332519054412842,4.70585298538208,10.060890197753906,-1.8368864059448242,-3.498281955718994,-1.815232276916504,0.3350030481815338],\"yaxis\":\"y\",\"type\":\"scatter\"},{\"hovertemplate\":\"kmeans_labels=4<br>x=%{x}<br>y=%{y}<extra></extra>\",\"legendgroup\":\"4\",\"marker\":{\"color\":\"#00cc96\",\"symbol\":\"circle\"},\"mode\":\"markers\",\"name\":\"4\",\"orientation\":\"v\",\"showlegend\":true,\"x\":[16.914817810058594,22.212247848510742,28.176647186279297,20.336462020874023,12.803199768066406,20.336471557617188,15.931672096252441,9.191854476928711,17.307559967041016,14.039457321166992,21.236021041870117,9.192559242248535,17.370315551757812,15.308064460754395,17.447309494018555,20.552207946777344,11.946568489074707,27.389198303222656,26.860130310058594,21.15926742553711,8.34968090057373,13.620826721191406,16.086383819580078,16.54090118408203,17.929250717163086,14.516382217407227,26.098094940185547,25.855714797973633,16.66199493408203,27.150543212890625,15.911831855773926,28.18745231628418,26.388023376464844,32.12022018432617,31.493993759155273,20.58333396911621,10.437702178955078,11.926067352294922,19.677108764648438,14.678237915039062,22.58167266845703,18.867502212524414,31.837589263916016,19.71197509765625,32.462425231933594,14.867491722106934,8.781649589538574],\"xaxis\":\"x\",\"y\":[-6.56546688079834,1.780544638633728,-2.3284826278686523,-14.042773246765137,-2.1706273555755615,-14.042756080627441,-7.817809104919434,-7.120951175689697,-7.9141459465026855,-1.0663816928863525,-6.745333194732666,-6.871629238128662,-8.747314453125,-1.9749294519424438,-6.289140224456787,-8.143463134765625,-9.173627853393555,-19.503612518310547,-18.923076629638672,-6.749850749969482,-2.8037753105163574,0.09323150664567947,0.22590956091880798,-1.8468528985977173,-1.775687575340271,-3.0349879264831543,-19.106487274169922,-19.84929847717285,-1.9467915296554565,-20.248090744018555,-0.9985408186912537,-2.3285751342773438,-20.426780700683594,2.731348752975464,2.3876171112060547,-9.07140827178955,-5.7056565284729,-9.153640747070312,-5.476146697998047,-14.777287483215332,-7.01651668548584,-6.617581844329834,1.761146903038025,-0.9571419358253479,2.103675603866577,-14.681599617004395,-2.848604679107666],\"yaxis\":\"y\",\"type\":\"scatter\"},{\"hovertemplate\":\"kmeans_labels=7<br>x=%{x}<br>y=%{y}<extra></extra>\",\"legendgroup\":\"7\",\"marker\":{\"color\":\"#ab63fa\",\"symbol\":\"circle\"},\"mode\":\"markers\",\"name\":\"7\",\"orientation\":\"v\",\"showlegend\":true,\"x\":[-12.318645477294922,-13.851036071777344,-14.31755542755127,-11.877549171447754,-13.905878067016602,-12.281998634338379,-13.091049194335938,-13.130252838134766,-13.051126480102539,-8.00815200805664,-13.79679012298584,-18.500764846801758,-17.34579086303711,-13.495928764343262,-6.725423336029053,-11.108256340026855,-10.166437149047852,-7.325504779815674,-8.61308479309082,-7.355593681335449,-8.013433456420898,-18.472692489624023,-10.137225151062012,-12.986077308654785],\"xaxis\":\"x\",\"y\":[32.12390899658203,30.47048568725586,31.25019073486328,31.331846237182617,32.062923431396484,30.523860931396484,31.295934677124023,32.534671783447266,30.04366111755371,25.298912048339844,18.04047393798828,21.363765716552734,52.24058532714844,18.388397216796875,29.721284866333008,13.802226066589355,17.52410888671875,33.66233444213867,28.79254150390625,33.635887145996094,25.403888702392578,21.34592056274414,17.502092361450195,19.163145065307617],\"yaxis\":\"y\",\"type\":\"scatter\"},{\"hovertemplate\":\"kmeans_labels=1<br>x=%{x}<br>y=%{y}<extra></extra>\",\"legendgroup\":\"1\",\"marker\":{\"color\":\"#FFA15A\",\"symbol\":\"circle\"},\"mode\":\"markers\",\"name\":\"1\",\"orientation\":\"v\",\"showlegend\":true,\"x\":[7.605565547943115,17.273590087890625,16.067785263061523,10.800204277038574,12.738741874694824,21.511930465698242,17.260034561157227,16.519086837768555,16.541011810302734,22.3502140045166,23.296472549438477,17.77444076538086,19.58972930908203,21.985309600830078,14.260603904724121,5.415924549102783,26.854671478271484,8.518318176269531,9.790863990783691,8.284238815307617,10.573407173156738,10.086736679077148,16.1914005279541,14.8340482711792,21.880237579345703,14.648204803466797,18.934965133666992,21.413991928100586,27.257999420166016,10.5506591796875,14.729804992675781,22.528289794921875,11.047131538391113,11.546525001525879,7.581725597381592,6.950961589813232,12.111279487609863,21.431724548339844,12.458220481872559,12.751317024230957,11.264275550842285,18.027631759643555,9.893277168273926,13.745450019836426,8.645685195922852,14.737615585327148,11.416295051574707,8.480649948120117,11.776604652404785,14.2373685836792,12.630997657775879,24.08411407470703,12.1605806350708,14.061060905456543,8.626011848449707,17.74917221069336,15.697052001953125,9.692851066589355,12.505036354064941,10.661294937133789],\"xaxis\":\"x\",\"y\":[6.824512004852295,22.128400802612305,21.76315689086914,5.786304950714111,3.713542938232422,10.461215019226074,21.35293197631836,21.13134002685547,22.38008689880371,5.349593162536621,5.180576801300049,6.909658432006836,7.99579381942749,6.2872114181518555,13.868910789489746,9.254735946655273,8.43030071258545,0.22963319718837738,0.5427228212356567,3.3353042602539062,16.508508682250977,10.057653427124023,13.05754280090332,10.393410682678223,11.209322929382324,2.6820921897888184,6.906310558319092,11.213452339172363,8.580180168151855,16.62506675720215,5.8966851234436035,12.016846656799316,7.290737628936768,10.869922637939453,11.134889602661133,5.360238552093506,2.7478272914886475,4.584163188934326,11.482892990112305,12.77280044555664,13.173173904418945,6.457386016845703,7.296473503112793,11.509170532226562,0.36421510577201843,9.44192123413086,6.494851589202881,3.384687662124634,11.730522155761719,9.539793014526367,8.32716178894043,4.951942443847656,9.642667770385742,6.424803733825684,8.940204620361328,13.507271766662598,13.812432289123535,12.110076904296875,10.509320259094238,10.394416809082031],\"yaxis\":\"y\",\"type\":\"scatter\"},{\"hovertemplate\":\"kmeans_labels=3<br>x=%{x}<br>y=%{y}<extra></extra>\",\"legendgroup\":\"3\",\"marker\":{\"color\":\"#19d3f3\",\"symbol\":\"circle\"},\"mode\":\"markers\",\"name\":\"3\",\"orientation\":\"v\",\"showlegend\":true,\"x\":[1.2579492330551147,3.422469139099121,1.816713809967041,1.8357783555984497,2.3473684787750244,2.8561344146728516,6.020098686218262,0.6424400806427002,0.9601333141326904,0.7660972476005554,-1.821993350982666,-0.6721556186676025,-0.32480278611183167,-5.613293647766113,-0.7067472338676453,7.132461071014404,-0.9969840049743652,2.936894416809082,-0.8936080932617188,-1.8981739282608032,-5.670894145965576,0.6450923681259155,3.173757314682007,0.7388917803764343,-2.0511860847473145,-4.941790580749512,5.917727947235107,2.3357856273651123,0.7795709371566772,-1.438474178314209,1.516737937927246,-0.4836364984512329,2.984373092651367,7.531346321105957,-2.9073173999786377,6.124592304229736,9.784120559692383,1.2771848440170288,0.02855190820991993,7.4443359375,2.7274422645568848,9.926740646362305,0.834535539150238,7.33140754699707,4.283863544464111,6.699289798736572,9.028661727905273],\"xaxis\":\"x\",\"y\":[24.368793487548828,15.226151466369629,21.81275177001953,21.6294002532959,24.439918518066406,17.295793533325195,15.507183074951172,25.06203269958496,26.975574493408203,28.625057220458984,15.244146347045898,26.18494415283203,27.944669723510742,19.680540084838867,27.688119888305664,22.101594924926758,30.176546096801758,18.677440643310547,22.36890411376953,25.117101669311523,19.680648803710938,31.633281707763672,12.215210914611816,13.202719688415527,16.02515983581543,15.584207534790039,15.514429092407227,13.857590675354004,29.72776222229004,12.459468841552734,29.273469924926758,31.38319969177246,16.904516220092773,22.342729568481445,29.168350219726562,23.566730499267578,28.181428909301758,17.673768997192383,30.691347122192383,26.78179359436035,13.989420890808105,26.46859359741211,30.887575149536133,26.7812557220459,17.493587493896484,21.091693878173828,27.176809310913086],\"yaxis\":\"y\",\"type\":\"scatter\"},{\"hovertemplate\":\"kmeans_labels=6<br>x=%{x}<br>y=%{y}<extra></extra>\",\"legendgroup\":\"6\",\"marker\":{\"color\":\"#FF6692\",\"symbol\":\"circle\"},\"mode\":\"markers\",\"name\":\"6\",\"orientation\":\"v\",\"showlegend\":true,\"x\":[4.860223293304443,-0.009069040417671204,0.37946560978889465,0.34678518772125244,2.2776269912719727,3.443632125854492,4.82600212097168,-3.459263563156128,1.0516750812530518,6.4073686599731445,-3.4124088287353516,15.0433931350708,1.2560023069381714,-3.3854784965515137,14.82363224029541,2.52724552154541,1.396229863166809,4.3152055740356445,14.596811294555664,3.865994930267334,9.389735221862793,0.29070332646369934,0.0898171067237854,0.37720516324043274,2.5583434104919434,3.9513752460479736,4.922580718994141,-3.7603888511657715,-0.6139124631881714,12.377117156982422,12.734237670898438,12.726337432861328,13.258258819580078,9.514883041381836,-3.4204561710357666,4.830563068389893,2.4322807788848877,10.83460521697998,2.6238925457000732,9.482903480529785,2.326512098312378,4.652613639831543,11.042290687561035,2.603053569793701,-3.2823076248168945,-0.22843800485134125,2.9390945434570312,7.327473163604736,-0.8416359424591064,4.334234237670898,-0.16911853849887848,9.387422561645508,-2.5404117107391357,4.651384353637695,2.076389789581299],\"xaxis\":\"x\",\"y\":[-7.6621270179748535,-21.76952362060547,-9.661465644836426,-23.253862380981445,-24.917295455932617,-7.694356918334961,-20.073322296142578,-18.84220314025879,-19.40142059326172,-12.617125511169434,-11.575063705444336,-26.503437042236328,-20.112709045410156,-9.404234886169434,-25.51923370361328,-23.70401382446289,-19.767196655273438,-11.237327575683594,-25.944555282592773,-9.170791625976562,-15.700119018554688,-20.94926643371582,-15.266510009765625,-16.408708572387695,-17.813222885131836,-8.463635444641113,-9.044228553771973,-17.38517189025879,-14.956021308898926,-24.443958282470703,-23.549076080322266,-24.999494552612305,-24.429758071899414,-11.456178665161133,-20.51445198059082,-20.051349639892578,-9.813995361328125,-19.77373504638672,-12.717248916625977,-18.54385757446289,-21.34640121459961,-16.799671173095703,-19.97685432434082,-23.561079025268555,-20.045137405395508,-9.22204303741455,-8.761452674865723,-6.063481330871582,-20.152732849121094,-11.232266426086426,-12.513357162475586,-15.560730934143066,-9.898759841918945,-15.489385604858398,-14.059892654418945],\"yaxis\":\"y\",\"type\":\"scatter\"},{\"hovertemplate\":\"kmeans_labels=5<br>x=%{x}<br>y=%{y}<extra></extra>\",\"legendgroup\":\"5\",\"marker\":{\"color\":\"#B6E880\",\"symbol\":\"circle\"},\"mode\":\"markers\",\"name\":\"5\",\"orientation\":\"v\",\"showlegend\":true,\"x\":[-16.967138290405273,-20.699665069580078,-19.873619079589844,-17.61884117126465,-16.56899070739746,-19.147966384887695,-18.715248107910156,-20.084880828857422,-29.006908416748047,-20.524049758911133,-27.729143142700195,-17.312633514404297,-20.707624435424805,-28.92079734802246,-22.96533966064453,-21.92461585998535,-21.787628173828125,-16.80561637878418,-12.675111770629883,-27.80008888244629,-12.995291709899902,-24.312973022460938,-13.446990013122559,-28.408353805541992,-16.474346160888672,-20.408126831054688,-26.33936309814453,-26.251371383666992,-20.46097183227539,-19.59996223449707,-22.1623477935791,-12.84740924835205,-29.780349731445312,-19.849491119384766,-16.462162017822266,-23.797992706298828,-16.305557250976562,-29.78034210205078,-18.92085075378418,-27.804445266723633,-13.47042465209961,-27.828115463256836,-18.952322006225586,-15.629026412963867,-29.416597366333008,-17.951618194580078,-21.7296142578125,-26.234460830688477,-27.507259368896484,-28.383010864257812,-16.464927673339844,-24.222980499267578,-20.513946533203125,-19.3890323638916,-14.288189888000488,-21.60076904296875,-21.14776039123535],\"xaxis\":\"x\",\"y\":[-4.1632513999938965,14.382111549377441,-6.269913196563721,1.4832395315170288,-3.119349479675293,-4.945732116699219,-3.2240488529205322,-5.863175868988037,9.557869911193848,8.925517082214355,7.456765174865723,-3.9832663536071777,15.816293716430664,9.42289924621582,8.811073303222656,-5.369353294372559,-6.666832447052002,7.894132137298584,10.95154857635498,17.201522827148438,0.7434133291244507,11.748672485351562,4.473583221435547,4.079046726226807,12.694896697998047,5.265082836151123,-0.8918370604515076,-0.7931878566741943,15.617714881896973,7.507734298706055,4.946691036224365,7.111673831939697,-7.92052698135376,0.6827854514122009,7.841654300689697,10.79014778137207,4.5077996253967285,-7.923666477203369,-0.5300872325897217,17.211841583251953,4.48353385925293,6.072061061859131,8.2293062210083,-1.8364442586898804,3.234260082244873,10.066581726074219,2.3277475833892822,2.9219861030578613,4.602309703826904,4.153009414672852,12.69710636138916,11.588723182678223,5.476324081420898,4.423895835876465,1.1734617948532104,-0.1434279978275299,-0.5035683512687683],\"yaxis\":\"y\",\"type\":\"scatter\"}],                        {\"template\":{\"data\":{\"bar\":[{\"error_x\":{\"color\":\"#2a3f5f\"},\"error_y\":{\"color\":\"#2a3f5f\"},\"marker\":{\"line\":{\"color\":\"#E5ECF6\",\"width\":0.5},\"pattern\":{\"fillmode\":\"overlay\",\"size\":10,\"solidity\":0.2}},\"type\":\"bar\"}],\"barpolar\":[{\"marker\":{\"line\":{\"color\":\"#E5ECF6\",\"width\":0.5},\"pattern\":{\"fillmode\":\"overlay\",\"size\":10,\"solidity\":0.2}},\"type\":\"barpolar\"}],\"carpet\":[{\"aaxis\":{\"endlinecolor\":\"#2a3f5f\",\"gridcolor\":\"white\",\"linecolor\":\"white\",\"minorgridcolor\":\"white\",\"startlinecolor\":\"#2a3f5f\"},\"baxis\":{\"endlinecolor\":\"#2a3f5f\",\"gridcolor\":\"white\",\"linecolor\":\"white\",\"minorgridcolor\":\"white\",\"startlinecolor\":\"#2a3f5f\"},\"type\":\"carpet\"}],\"choropleth\":[{\"colorbar\":{\"outlinewidth\":0,\"ticks\":\"\"},\"type\":\"choropleth\"}],\"contour\":[{\"colorbar\":{\"outlinewidth\":0,\"ticks\":\"\"},\"colorscale\":[[0.0,\"#0d0887\"],[0.1111111111111111,\"#46039f\"],[0.2222222222222222,\"#7201a8\"],[0.3333333333333333,\"#9c179e\"],[0.4444444444444444,\"#bd3786\"],[0.5555555555555556,\"#d8576b\"],[0.6666666666666666,\"#ed7953\"],[0.7777777777777778,\"#fb9f3a\"],[0.8888888888888888,\"#fdca26\"],[1.0,\"#f0f921\"]],\"type\":\"contour\"}],\"contourcarpet\":[{\"colorbar\":{\"outlinewidth\":0,\"ticks\":\"\"},\"type\":\"contourcarpet\"}],\"heatmap\":[{\"colorbar\":{\"outlinewidth\":0,\"ticks\":\"\"},\"colorscale\":[[0.0,\"#0d0887\"],[0.1111111111111111,\"#46039f\"],[0.2222222222222222,\"#7201a8\"],[0.3333333333333333,\"#9c179e\"],[0.4444444444444444,\"#bd3786\"],[0.5555555555555556,\"#d8576b\"],[0.6666666666666666,\"#ed7953\"],[0.7777777777777778,\"#fb9f3a\"],[0.8888888888888888,\"#fdca26\"],[1.0,\"#f0f921\"]],\"type\":\"heatmap\"}],\"heatmapgl\":[{\"colorbar\":{\"outlinewidth\":0,\"ticks\":\"\"},\"colorscale\":[[0.0,\"#0d0887\"],[0.1111111111111111,\"#46039f\"],[0.2222222222222222,\"#7201a8\"],[0.3333333333333333,\"#9c179e\"],[0.4444444444444444,\"#bd3786\"],[0.5555555555555556,\"#d8576b\"],[0.6666666666666666,\"#ed7953\"],[0.7777777777777778,\"#fb9f3a\"],[0.8888888888888888,\"#fdca26\"],[1.0,\"#f0f921\"]],\"type\":\"heatmapgl\"}],\"histogram\":[{\"marker\":{\"pattern\":{\"fillmode\":\"overlay\",\"size\":10,\"solidity\":0.2}},\"type\":\"histogram\"}],\"histogram2d\":[{\"colorbar\":{\"outlinewidth\":0,\"ticks\":\"\"},\"colorscale\":[[0.0,\"#0d0887\"],[0.1111111111111111,\"#46039f\"],[0.2222222222222222,\"#7201a8\"],[0.3333333333333333,\"#9c179e\"],[0.4444444444444444,\"#bd3786\"],[0.5555555555555556,\"#d8576b\"],[0.6666666666666666,\"#ed7953\"],[0.7777777777777778,\"#fb9f3a\"],[0.8888888888888888,\"#fdca26\"],[1.0,\"#f0f921\"]],\"type\":\"histogram2d\"}],\"histogram2dcontour\":[{\"colorbar\":{\"outlinewidth\":0,\"ticks\":\"\"},\"colorscale\":[[0.0,\"#0d0887\"],[0.1111111111111111,\"#46039f\"],[0.2222222222222222,\"#7201a8\"],[0.3333333333333333,\"#9c179e\"],[0.4444444444444444,\"#bd3786\"],[0.5555555555555556,\"#d8576b\"],[0.6666666666666666,\"#ed7953\"],[0.7777777777777778,\"#fb9f3a\"],[0.8888888888888888,\"#fdca26\"],[1.0,\"#f0f921\"]],\"type\":\"histogram2dcontour\"}],\"mesh3d\":[{\"colorbar\":{\"outlinewidth\":0,\"ticks\":\"\"},\"type\":\"mesh3d\"}],\"parcoords\":[{\"line\":{\"colorbar\":{\"outlinewidth\":0,\"ticks\":\"\"}},\"type\":\"parcoords\"}],\"pie\":[{\"automargin\":true,\"type\":\"pie\"}],\"scatter\":[{\"marker\":{\"colorbar\":{\"outlinewidth\":0,\"ticks\":\"\"}},\"type\":\"scatter\"}],\"scatter3d\":[{\"line\":{\"colorbar\":{\"outlinewidth\":0,\"ticks\":\"\"}},\"marker\":{\"colorbar\":{\"outlinewidth\":0,\"ticks\":\"\"}},\"type\":\"scatter3d\"}],\"scattercarpet\":[{\"marker\":{\"colorbar\":{\"outlinewidth\":0,\"ticks\":\"\"}},\"type\":\"scattercarpet\"}],\"scattergeo\":[{\"marker\":{\"colorbar\":{\"outlinewidth\":0,\"ticks\":\"\"}},\"type\":\"scattergeo\"}],\"scattergl\":[{\"marker\":{\"colorbar\":{\"outlinewidth\":0,\"ticks\":\"\"}},\"type\":\"scattergl\"}],\"scattermapbox\":[{\"marker\":{\"colorbar\":{\"outlinewidth\":0,\"ticks\":\"\"}},\"type\":\"scattermapbox\"}],\"scatterpolar\":[{\"marker\":{\"colorbar\":{\"outlinewidth\":0,\"ticks\":\"\"}},\"type\":\"scatterpolar\"}],\"scatterpolargl\":[{\"marker\":{\"colorbar\":{\"outlinewidth\":0,\"ticks\":\"\"}},\"type\":\"scatterpolargl\"}],\"scatterternary\":[{\"marker\":{\"colorbar\":{\"outlinewidth\":0,\"ticks\":\"\"}},\"type\":\"scatterternary\"}],\"surface\":[{\"colorbar\":{\"outlinewidth\":0,\"ticks\":\"\"},\"colorscale\":[[0.0,\"#0d0887\"],[0.1111111111111111,\"#46039f\"],[0.2222222222222222,\"#7201a8\"],[0.3333333333333333,\"#9c179e\"],[0.4444444444444444,\"#bd3786\"],[0.5555555555555556,\"#d8576b\"],[0.6666666666666666,\"#ed7953\"],[0.7777777777777778,\"#fb9f3a\"],[0.8888888888888888,\"#fdca26\"],[1.0,\"#f0f921\"]],\"type\":\"surface\"}],\"table\":[{\"cells\":{\"fill\":{\"color\":\"#EBF0F8\"},\"line\":{\"color\":\"white\"}},\"header\":{\"fill\":{\"color\":\"#C8D4E3\"},\"line\":{\"color\":\"white\"}},\"type\":\"table\"}]},\"layout\":{\"annotationdefaults\":{\"arrowcolor\":\"#2a3f5f\",\"arrowhead\":0,\"arrowwidth\":1},\"autotypenumbers\":\"strict\",\"coloraxis\":{\"colorbar\":{\"outlinewidth\":0,\"ticks\":\"\"}},\"colorscale\":{\"diverging\":[[0,\"#8e0152\"],[0.1,\"#c51b7d\"],[0.2,\"#de77ae\"],[0.3,\"#f1b6da\"],[0.4,\"#fde0ef\"],[0.5,\"#f7f7f7\"],[0.6,\"#e6f5d0\"],[0.7,\"#b8e186\"],[0.8,\"#7fbc41\"],[0.9,\"#4d9221\"],[1,\"#276419\"]],\"sequential\":[[0.0,\"#0d0887\"],[0.1111111111111111,\"#46039f\"],[0.2222222222222222,\"#7201a8\"],[0.3333333333333333,\"#9c179e\"],[0.4444444444444444,\"#bd3786\"],[0.5555555555555556,\"#d8576b\"],[0.6666666666666666,\"#ed7953\"],[0.7777777777777778,\"#fb9f3a\"],[0.8888888888888888,\"#fdca26\"],[1.0,\"#f0f921\"]],\"sequentialminus\":[[0.0,\"#0d0887\"],[0.1111111111111111,\"#46039f\"],[0.2222222222222222,\"#7201a8\"],[0.3333333333333333,\"#9c179e\"],[0.4444444444444444,\"#bd3786\"],[0.5555555555555556,\"#d8576b\"],[0.6666666666666666,\"#ed7953\"],[0.7777777777777778,\"#fb9f3a\"],[0.8888888888888888,\"#fdca26\"],[1.0,\"#f0f921\"]]},\"colorway\":[\"#636efa\",\"#EF553B\",\"#00cc96\",\"#ab63fa\",\"#FFA15A\",\"#19d3f3\",\"#FF6692\",\"#B6E880\",\"#FF97FF\",\"#FECB52\"],\"font\":{\"color\":\"#2a3f5f\"},\"geo\":{\"bgcolor\":\"white\",\"lakecolor\":\"white\",\"landcolor\":\"#E5ECF6\",\"showlakes\":true,\"showland\":true,\"subunitcolor\":\"white\"},\"hoverlabel\":{\"align\":\"left\"},\"hovermode\":\"closest\",\"mapbox\":{\"style\":\"light\"},\"paper_bgcolor\":\"white\",\"plot_bgcolor\":\"#E5ECF6\",\"polar\":{\"angularaxis\":{\"gridcolor\":\"white\",\"linecolor\":\"white\",\"ticks\":\"\"},\"bgcolor\":\"#E5ECF6\",\"radialaxis\":{\"gridcolor\":\"white\",\"linecolor\":\"white\",\"ticks\":\"\"}},\"scene\":{\"xaxis\":{\"backgroundcolor\":\"#E5ECF6\",\"gridcolor\":\"white\",\"gridwidth\":2,\"linecolor\":\"white\",\"showbackground\":true,\"ticks\":\"\",\"zerolinecolor\":\"white\"},\"yaxis\":{\"backgroundcolor\":\"#E5ECF6\",\"gridcolor\":\"white\",\"gridwidth\":2,\"linecolor\":\"white\",\"showbackground\":true,\"ticks\":\"\",\"zerolinecolor\":\"white\"},\"zaxis\":{\"backgroundcolor\":\"#E5ECF6\",\"gridcolor\":\"white\",\"gridwidth\":2,\"linecolor\":\"white\",\"showbackground\":true,\"ticks\":\"\",\"zerolinecolor\":\"white\"}},\"shapedefaults\":{\"line\":{\"color\":\"#2a3f5f\"}},\"ternary\":{\"aaxis\":{\"gridcolor\":\"white\",\"linecolor\":\"white\",\"ticks\":\"\"},\"baxis\":{\"gridcolor\":\"white\",\"linecolor\":\"white\",\"ticks\":\"\"},\"bgcolor\":\"#E5ECF6\",\"caxis\":{\"gridcolor\":\"white\",\"linecolor\":\"white\",\"ticks\":\"\"}},\"title\":{\"x\":0.05},\"xaxis\":{\"automargin\":true,\"gridcolor\":\"white\",\"linecolor\":\"white\",\"ticks\":\"\",\"title\":{\"standoff\":15},\"zerolinecolor\":\"white\",\"zerolinewidth\":2},\"yaxis\":{\"automargin\":true,\"gridcolor\":\"white\",\"linecolor\":\"white\",\"ticks\":\"\",\"title\":{\"standoff\":15},\"zerolinecolor\":\"white\",\"zerolinewidth\":2}}},\"xaxis\":{\"anchor\":\"y\",\"domain\":[0.0,1.0],\"title\":{\"text\":\"x\"}},\"yaxis\":{\"anchor\":\"x\",\"domain\":[0.0,1.0],\"title\":{\"text\":\"y\"}},\"legend\":{\"title\":{\"text\":\"kmeans_labels\"},\"tracegroupgap\":0},\"title\":{\"text\":\"Vietnamese news clustering\"}},                        {\"responsive\": true}                    ).then(function(){\n",
              "                            \n",
              "var gd = document.getElementById('d51dfa1a-2b7c-47a7-9f9d-f45219aa86a2');\n",
              "var x = new MutationObserver(function (mutations, observer) {{\n",
              "        var display = window.getComputedStyle(gd).display;\n",
              "        if (!display || display === 'none') {{\n",
              "            console.log([gd, 'removed!']);\n",
              "            Plotly.purge(gd);\n",
              "            observer.disconnect();\n",
              "        }}\n",
              "}});\n",
              "\n",
              "// Listen for the removal of the full notebook cells\n",
              "var notebookContainer = gd.closest('#notebook-container');\n",
              "if (notebookContainer) {{\n",
              "    x.observe(notebookContainer, {childList: true});\n",
              "}}\n",
              "\n",
              "// Listen for the clearing of the current output cell\n",
              "var outputEl = gd.closest('.output');\n",
              "if (outputEl) {{\n",
              "    x.observe(outputEl, {childList: true});\n",
              "}}\n",
              "\n",
              "                        })                };                            </script>        </div>\n",
              "</body>\n",
              "</html>"
            ]
          },
          "metadata": {}
        }
      ],
      "source": [
        "import texthero as hero\n",
        "import pandas as pd\n",
        "\n",
        "df = pd.read_csv(\n",
        "    \"https://raw.githubusercontent.com/thesunsavior/Vietnamese-Fake-News-Generation/main/data.csv\"\n",
        ")\n",
        "\n",
        "df['tfidf'] = (\n",
        "    df['text']\n",
        "    .pipe(hero.clean)\n",
        "    .pipe(hero.tfidf)\n",
        ")\n",
        "\n",
        "df['pca'] = df['tfidf'].pipe(hero.tsne)\n",
        "\n",
        "df['kmeans_labels'] = (\n",
        "    df['pca']\n",
        "    .pipe(hero.kmeans, n_clusters=8)\n",
        "    .astype(str)\n",
        ")\n",
        "\n",
        "\n",
        "hero.scatterplot(df, 'pca', color='kmeans_labels', title=\"Vietnamese news clustering\")"
      ]
    },
    {
      "cell_type": "code",
      "execution_count": null,
      "id": "permanent-display",
      "metadata": {
        "id": "permanent-display",
        "colab": {
          "base_uri": "https://localhost:8080/"
        },
        "outputId": "83f9cb3a-5fde-4064-b710-4643e4e4c1b0"
      },
      "outputs": [
        {
          "output_type": "stream",
          "name": "stdout",
          "text": [
            "                                                  text  \\\n",
            "7     Hà Tĩnh có lịch thi đấu thực sự thử thách khi...   \n",
            "20    Người làm thuêVề nguyên tắc cơ bản mối quan h...   \n",
            "38    HLV Nguyễn Huy Hoàng của SLNA chia sẻ sau trậ...   \n",
            "54    Tại sân Vinh  SLNA (2 điểm) – đội vừa hoà liê...   \n",
            "64    Bùi Tiến Dũng bắt chính ở 2 trận đầu của CAHN...   \n",
            "90    (VTC News) -HLV Philippe Troussier sắp trở th...   \n",
            "97    (VTC News) -Liên đoàn bóng đá Việt Nam (VFF) ...   \n",
            "112   (VTC News) -Tại lễ xuất quân mùa giải 2023 củ...   \n",
            "120   (VTC News) -Ở mùa giải 2023  mức tiền thưởng ...   \n",
            "122   (VTC News) - Đây là vấn đề không ai mong muốn...   \n",
            "132   (VTC News) -Hôm 30/1  phát ngôn viên Bộ Ngoại...   \n",
            "147   (VTC News) -Chiều 30/1  CLB bóng đá Đông Á Th...   \n",
            "162   (VTC News) - HAGL có nhiều khả năng sẽ không ...   \n",
            "165   Lexus RX 2023Theo xác nhận từ đại lý  mẫu xe ...   \n",
            "192   (VTC News) -Điều lệ V-League 2023 ghi rõ:  Nế...   \n",
            "206    Sự thật là tôi đã không nghĩ nhiều. Đó là nh...   \n",
            "218   (VTC News) -Theo nguồn tin của VTC News  CLB ...   \n",
            "232   HLV Shin Tae-yong sẽ không góp mặt ở kỳ đại h...   \n",
            "236   Thể thaoTrong đoạn phỏng vấn mới đây với FIFA...   \n",
            "238   Tiền đạo đang khoác áo CLB Bình Dương lọt tốp...   \n",
            "249   Thế hệ mới nhất của mẫu bán tải hiệu suất cao...   \n",
            "253   Chủ tịch CLB HAGL  ông Đoàn Nguyên Đức chia s...   \n",
            "257   Với động thái đầu quân về The Black Label  Pa...   \n",
            "258   Jurgen Klopp đang cố gắng dựng xây một kỷ ngu...   \n",
            "260   Trung Quốc ngày 31/1 chỉ trích Tổng thống đắc...   \n",
            "277   Mykhailo Mudryk gặp rắc rối khi nhắc đến các ...   \n",
            "287   Yusuke Adachi  Giám đốc Kỹ thuật của Liê...   \n",
            "297   5 năm dưới triều đại của HLV Park Hang Seo  đ...   \n",
            "301   Tổng giám đốc VPF Nguyễn Minh Ngọc vẫn hy vọn...   \n",
            "317   Cụ bà có quốc tịch Campuchia mang theo vàng  ...   \n",
            "318   Nhà tài trợ chính V.League không khẳng định n...   \n",
            "320   Hình ảnh tiền vệ Tuấn Anh của HAGL trong tran...   \n",
            "346   HLV Philippe Troussier sẽ nhận lương cao hơn ...   \n",
            "350   Thậm chí  Messi còn 3 lần để mất bóng  không ...   \n",
            "352   Carabao không phải nhà tài trợ tầm thường và ...   \n",
            "354   Sau World Cup 2022  PSG chơi tệ dần. Nhà vô đ...   \n",
            "359   02:39Trang chủ Real Madrid vừa chia sẻ hình ả...   \n",
            "360   HLV Carlo Ancelotti cho biết Benzema tập luyệ...   \n",
            "377   Dù HAGL và VPF đã ngồi lại để giải quy...   \n",
            "386   Những áp lực và chỉ trích cho siêu sao người ...   \n",
            "389   HLV Park Hang-seo thổ lộ rằng bản thân từng m...   \n",
            "397   Tiền đạo người Nhật Bản Takefusa Kubo được HL...   \n",
            "400   Phát ngôn bỏ giải của bầu Đức dần trở thành h...   \n",
            "405   Chưa thể hiện được nhiều tại Saudi Arabia  Cr...   \n",
            "409   Hôm 31/1  Liên đoàn Bóng đá Myanmar (MFF) quy...   \n",
            "426   Cựu tiền đạo Argentina lên tiếng về hành động...   \n",
            "430   Ronaldo tên đầy đủ là Cristiano Ronaldo dos S...   \n",
            "\n",
            "                                                 tfidf  \\\n",
            "7    [0.0, 0.0, 0.0, 0.0, 0.0, 0.0, 0.0, 0.0, 0.0, ...   \n",
            "20   [0.0, 0.0, 0.0, 0.0, 0.0, 0.0, 0.0, 0.0, 0.0, ...   \n",
            "38   [0.0, 0.0, 0.0, 0.0, 0.0, 0.0, 0.0, 0.0, 0.0, ...   \n",
            "54   [0.0, 0.0, 0.0, 0.0, 0.0, 0.0, 0.0, 0.0, 0.0, ...   \n",
            "64   [0.0, 0.0, 0.0, 0.0, 0.0, 0.0, 0.0, 0.0, 0.0, ...   \n",
            "90   [0.0, 0.0, 0.0, 0.0, 0.0, 0.0, 0.0, 0.0, 0.0, ...   \n",
            "97   [0.0, 0.0, 0.0, 0.0, 0.0, 0.0, 0.0, 0.0, 0.0, ...   \n",
            "112  [0.0, 0.0, 0.0, 0.0, 0.0, 0.0, 0.0, 0.0, 0.0, ...   \n",
            "120  [0.0, 0.0, 0.0, 0.0, 0.0, 0.0, 0.0, 0.0, 0.0, ...   \n",
            "122  [0.0, 0.0, 0.0, 0.0, 0.0, 0.0, 0.0, 0.0, 0.0, ...   \n",
            "132  [0.0, 0.0, 0.0, 0.0, 0.0, 0.0, 0.0, 0.0, 0.0, ...   \n",
            "147  [0.0, 0.0, 0.0, 0.0, 0.0, 0.0, 0.0, 0.0, 0.0, ...   \n",
            "162  [0.0, 0.0, 0.0, 0.0, 0.0, 0.0, 0.0, 0.0, 0.0, ...   \n",
            "165  [0.0, 0.0, 0.0, 0.0, 0.0, 0.0, 0.0, 0.0, 0.0, ...   \n",
            "192  [0.0, 0.0, 0.0, 0.0, 0.0, 0.0, 0.0, 0.0, 0.0, ...   \n",
            "206  [0.0, 0.0, 0.0, 0.0, 0.0, 0.0, 0.0, 0.0, 0.0, ...   \n",
            "218  [0.0, 0.0, 0.0, 0.0, 0.0, 0.0, 0.0, 0.0, 0.0, ...   \n",
            "232  [0.0, 0.0, 0.0, 0.0, 0.0, 0.0, 0.0, 0.0, 0.0, ...   \n",
            "236  [0.0, 0.0, 0.0, 0.0, 0.0, 0.0, 0.0, 0.0, 0.0, ...   \n",
            "238  [0.0, 0.0, 0.0, 0.0, 0.0, 0.0, 0.0, 0.0, 0.0, ...   \n",
            "249  [0.0, 0.0, 0.0, 0.0, 0.0, 0.0, 0.0, 0.0, 0.0, ...   \n",
            "253  [0.0, 0.0, 0.0, 0.0, 0.0, 0.0, 0.0, 0.0, 0.0, ...   \n",
            "257  [0.0, 0.0, 0.0, 0.0, 0.0, 0.0, 0.0, 0.0, 0.0, ...   \n",
            "258  [0.0, 0.0, 0.0, 0.0, 0.0, 0.0, 0.0, 0.0, 0.0, ...   \n",
            "260  [0.0, 0.0, 0.0, 0.0, 0.0, 0.0, 0.0, 0.0, 0.0, ...   \n",
            "277  [0.0, 0.0, 0.0, 0.0, 0.0, 0.0, 0.0, 0.0, 0.0, ...   \n",
            "287  [0.0, 0.0, 0.0, 0.0, 0.0, 0.0, 0.0, 0.0, 0.0, ...   \n",
            "297  [0.0, 0.0, 0.0, 0.0, 0.0, 0.0, 0.0, 0.0, 0.0, ...   \n",
            "301  [0.0, 0.0, 0.0, 0.0, 0.0, 0.0, 0.0, 0.0, 0.0, ...   \n",
            "317  [0.0, 0.0, 0.0, 0.0, 0.0, 0.0, 0.0, 0.0, 0.0, ...   \n",
            "318  [0.0, 0.0, 0.0, 0.0, 0.0, 0.0, 0.0, 0.0, 0.0, ...   \n",
            "320  [0.0, 0.0, 0.0, 0.0, 0.0, 0.0, 0.0, 0.0, 0.0, ...   \n",
            "346  [0.0, 0.0, 0.0, 0.0, 0.0, 0.0, 0.0, 0.0, 0.0, ...   \n",
            "350  [0.0, 0.0, 0.0, 0.0, 0.0, 0.0, 0.0, 0.0, 0.0, ...   \n",
            "352  [0.0, 0.0, 0.0, 0.0, 0.0, 0.0, 0.0, 0.0, 0.0, ...   \n",
            "354  [0.0, 0.0, 0.0, 0.0, 0.0, 0.0, 0.0, 0.0, 0.0, ...   \n",
            "359  [0.0, 0.0, 0.0, 0.0, 0.0, 0.0, 0.0, 0.0, 0.0, ...   \n",
            "360  [0.0, 0.0, 0.0, 0.0, 0.0, 0.0, 0.0, 0.0, 0.0, ...   \n",
            "377  [0.0, 0.0, 0.0, 0.0, 0.0, 0.0, 0.0, 0.0, 0.0, ...   \n",
            "386  [0.0, 0.0, 0.0, 0.0, 0.0, 0.0, 0.0, 0.0, 0.0, ...   \n",
            "389  [0.0, 0.0, 0.0, 0.0, 0.0, 0.0, 0.0, 0.0, 0.0, ...   \n",
            "397  [0.0, 0.0, 0.0, 0.0, 0.0, 0.0, 0.0, 0.0, 0.0, ...   \n",
            "400  [0.0, 0.0, 0.0, 0.0, 0.0, 0.0, 0.0, 0.0, 0.0, ...   \n",
            "405  [0.0, 0.0, 0.0, 0.0, 0.0, 0.0, 0.0, 0.0, 0.0, ...   \n",
            "409  [0.0, 0.0, 0.0, 0.0, 0.0, 0.0, 0.0, 0.0, 0.0, ...   \n",
            "426  [0.0, 0.0, 0.0, 0.0, 0.0, 0.0, 0.0, 0.0, 0.0, ...   \n",
            "430  [0.0, 0.0, 0.0, 0.0, 0.0, 0.0, 0.0, 0.0, 0.0, ...   \n",
            "\n",
            "                                            pca kmeans_labels  \n",
            "7      [1.2579492330551147, 24.368793487548828]             3  \n",
            "20      [3.422469139099121, 15.226151466369629]             3  \n",
            "38       [1.816713809967041, 21.81275177001953]             3  \n",
            "54       [1.8357783555984497, 21.6294002532959]             3  \n",
            "64     [2.3473684787750244, 24.439918518066406]             3  \n",
            "90     [2.8561344146728516, 17.295793533325195]             3  \n",
            "97      [6.020098686218262, 15.507183074951172]             3  \n",
            "112     [0.6424400806427002, 25.06203269958496]             3  \n",
            "120    [0.9601333141326904, 26.975574493408203]             3  \n",
            "122    [0.7660972476005554, 28.625057220458984]             3  \n",
            "132    [-1.821993350982666, 15.244146347045898]             3  \n",
            "147    [-0.6721556186676025, 26.18494415283203]             3  \n",
            "162  [-0.32480278611183167, 27.944669723510742]             3  \n",
            "165    [-5.613293647766113, 19.680540084838867]             3  \n",
            "192   [-0.7067472338676453, 27.688119888305664]             3  \n",
            "206     [7.132461071014404, 22.101594924926758]             3  \n",
            "218   [-0.9969840049743652, 30.176546096801758]             3  \n",
            "232     [2.936894416809082, 18.677440643310547]             3  \n",
            "236    [-0.8936080932617188, 22.36890411376953]             3  \n",
            "238   [-1.8981739282608032, 25.117101669311523]             3  \n",
            "249    [-5.670894145965576, 19.680648803710938]             3  \n",
            "253    [0.6450923681259155, 31.633281707763672]             3  \n",
            "257     [3.173757314682007, 12.215210914611816]             3  \n",
            "258    [0.7388917803764343, 13.202719688415527]             3  \n",
            "260    [-2.0511860847473145, 16.02515983581543]             3  \n",
            "277    [-4.941790580749512, 15.584207534790039]             3  \n",
            "287     [5.917727947235107, 15.514429092407227]             3  \n",
            "297    [2.3357856273651123, 13.857590675354004]             3  \n",
            "301     [0.7795709371566772, 29.72776222229004]             3  \n",
            "317    [-1.438474178314209, 12.459468841552734]             3  \n",
            "318     [1.516737937927246, 29.273469924926758]             3  \n",
            "320    [-0.4836364984512329, 31.38319969177246]             3  \n",
            "346     [2.984373092651367, 16.904516220092773]             3  \n",
            "350     [7.531346321105957, 22.342729568481445]             3  \n",
            "352   [-2.9073173999786377, 29.168350219726562]             3  \n",
            "354     [6.124592304229736, 23.566730499267578]             3  \n",
            "359     [9.784120559692383, 28.181428909301758]             3  \n",
            "360    [1.2771848440170288, 17.673768997192383]             3  \n",
            "377   [0.02855190820991993, 30.691347122192383]             3  \n",
            "386           [7.4443359375, 26.78179359436035]             3  \n",
            "389    [2.7274422645568848, 13.989420890808105]             3  \n",
            "397      [9.926740646362305, 26.46859359741211]             3  \n",
            "400     [0.834535539150238, 30.887575149536133]             3  \n",
            "405        [7.33140754699707, 26.7812557220459]             3  \n",
            "409     [4.283863544464111, 17.493587493896484]             3  \n",
            "426     [6.699289798736572, 21.091693878173828]             3  \n",
            "430     [9.028661727905273, 27.176809310913086]             3  \n"
          ]
        }
      ],
      "source": [
        "res =df[df[\"kmeans_labels\"] == \"3\"]\n",
        "print(res)"
      ]
    }
  ],
  "metadata": {
    "kernelspec": {
      "display_name": "Python 3 (ipykernel)",
      "language": "python",
      "name": "python3"
    },
    "language_info": {
      "codemirror_mode": {
        "name": "ipython",
        "version": 3
      },
      "file_extension": ".py",
      "mimetype": "text/x-python",
      "name": "python",
      "nbconvert_exporter": "python",
      "pygments_lexer": "ipython3",
      "version": "3.10.6"
    },
    "colab": {
      "provenance": [],
      "toc_visible": true
    }
  },
  "nbformat": 4,
  "nbformat_minor": 5
}